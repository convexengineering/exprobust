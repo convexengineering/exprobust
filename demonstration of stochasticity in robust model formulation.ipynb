{
 "cells": [
  {
   "cell_type": "code",
   "execution_count": 6,
   "metadata": {},
   "outputs": [
    {
     "name": "stdout",
     "output_type": "stream",
     "text": [
      "Populating the interactive namespace from numpy and matplotlib\n",
      "Fuel consumption: 1019 lbs\n",
      "    Failure rate:  76% \n",
      "Fuel consumption: 1032 lbs\n",
      "    Failure rate:  71% \n",
      "Fuel consumption: 1046 lbs\n",
      "    Failure rate:  68% \n",
      "Fuel consumption: 1060 lbs\n",
      "    Failure rate:  65% \n",
      "Fuel consumption: 1074 lbs\n",
      "    Failure rate:  61% \n",
      "Fuel consumption: 1088 lbs\n",
      "    Failure rate:  58% \n",
      "Fuel consumption: 1102 lbs\n",
      "    Failure rate:  53% \n",
      "Fuel consumption: 1117 lbs\n",
      "    Failure rate:  52% \n",
      "Fuel consumption: 1132 lbs\n",
      "    Failure rate:  48% \n",
      "Fuel consumption: 1147 lbs\n",
      "    Failure rate:  40% \n",
      "Fuel consumption: 1163 lbs\n",
      "    Failure rate:  35% \n",
      "Fuel consumption: 1178 lbs\n",
      "    Failure rate:  33% \n",
      "Fuel consumption: 1195 lbs\n",
      "    Failure rate:  30% \n",
      "Fuel consumption: 1211 lbs\n",
      "    Failure rate:  30% \n",
      "Fuel consumption: 1228 lbs\n",
      "    Failure rate:  25% \n",
      "Fuel consumption: 1245 lbs\n",
      "    Failure rate:  24% \n",
      "Fuel consumption: 1262 lbs\n",
      "    Failure rate:  22% \n",
      "Fuel consumption: 1280 lbs\n",
      "    Failure rate:  18% \n",
      "Fuel consumption: 1298 lbs\n",
      "    Failure rate:  17% \n",
      "Fuel consumption: 1316 lbs\n",
      "    Failure rate:  14% \n",
      "Fuel consumption: 1335 lbs\n",
      "    Failure rate:  11% \n",
      "Fuel consumption: 1354 lbs\n",
      "    Failure rate:  9% \n",
      "Fuel consumption: 1374 lbs\n",
      "    Failure rate:  9% \n",
      "Fuel consumption: 1394 lbs\n",
      "    Failure rate:  7% \n",
      "Fuel consumption: 1414 lbs\n",
      "    Failure rate:  2% \n",
      "Fuel consumption: 1435 lbs\n",
      "    Failure rate:  2% \n",
      "Fuel consumption: 1457 lbs\n",
      "    Failure rate:  2% \n",
      "Fuel consumption: 1478 lbs\n",
      "    Failure rate:  2% \n",
      "Fuel consumption: 1500 lbs\n",
      "    Failure rate:  2% \n",
      "Fuel consumption: 1523 lbs\n",
      "    Failure rate:  2% \n",
      "Fuel consumption: 1546 lbs\n",
      "    Failure rate:  2% \n",
      "Fuel consumption: 1570 lbs\n",
      "    Failure rate:  1% \n",
      "Fuel consumption: 1594 lbs\n",
      "    Failure rate:  1% \n",
      "Fuel consumption: 1618 lbs\n",
      "    Failure rate:  1% \n",
      "Fuel consumption: 1643 lbs\n",
      "    Failure rate:  1% \n",
      "Fuel consumption: 1669 lbs\n",
      "    Failure rate:  1% \n",
      "Fuel consumption: 1695 lbs\n",
      "    Failure rate:  0% \n",
      "Fuel consumption: 1722 lbs\n",
      "    Failure rate:  0% \n",
      "Fuel consumption: 1750 lbs\n",
      "    Failure rate:  0% \n",
      "Fuel consumption: 1778 lbs\n",
      "    Failure rate:  0% \n",
      "Fuel consumption: 1806 lbs\n",
      "    Failure rate:  0% \n"
     ]
    },
    {
     "data": {
      "text/plain": [
       "[<matplotlib.lines.Line2D at 0x7f7e9320eb50>]"
      ]
     },
     "execution_count": 6,
     "metadata": {},
     "output_type": "execute_result"
    },
    {
     "data": {
      "image/png": "[encoded data removed]",
      "text/plain": [
       "<matplotlib.figure.Figure at 0x7f7e9347c2d0>"
      ]
     },
     "metadata": {},
     "output_type": "display_data"
    }
   ],
   "source": [
    "%pylab inline\n",
    "\n",
    "import numpy as np\n",
    "import scipy.stats as stats\n",
    "\n",
    "from simpleac import SimPleAC\n",
    "from monte_carlo import monte_carlo_results\n",
    "from robust.robust import RobustModel\n",
    "\n",
    "\n",
    "# f = figure(figsize=(12, 6))\n",
    "perfs = []\n",
    "failures  = []\n",
    "\n",
    "for gamma in np.linspace(0, 0.7, 41):\n",
    "    wing_weight_pr = 10.\n",
    "    tsfc_pr = 10.\n",
    "    v_min_pr = 20.\n",
    "    range_pr = 10.\n",
    "\n",
    "    # EXPERIMENT PARTICIPANTS: DON'T MODIFY BELOW THIS!!! #\n",
    "\n",
    "#     np.random.seed(seed=246)\n",
    "#         print stats.norm.rvs()\n",
    "    m = SimPleAC(wing_weight_pr, tsfc_pr, v_min_pr, range_pr)\n",
    "#     np.random.seed(seed=246)\n",
    "#         print stats.norm.rvs()\n",
    "    nominal_sol = m.localsolve(verbosity=0)\n",
    "\n",
    "#     np.random.seed(seed=246)\n",
    "#         print stats.norm.rvs()\n",
    "    rm = RobustModel(m, \"elliptical\", gamma=gamma, twoTerm=False,\n",
    "                     boyd=False, simpleModel=False,\n",
    "                     nominalsolve=nominal_sol)\n",
    "#     np.random.seed(seed=246)\n",
    "#         print stats.norm.rvs()\n",
    "    rm_sol = rm.robustsolve(verbosity=0,\n",
    "                            minNumOfLinearSections=3,\n",
    "                            maxNumOfLinearSections=99,\n",
    "                            linearizationTolerance=1e-4)\n",
    "#     print rm_sol(\"C_L\")\n",
    "#     np.random.seed(seed=246)\n",
    "#         print stats.norm.rvs()\n",
    "    perf, failure = monte_carlo_results(m, sol=rm_sol)\n",
    "#     np.random.seed(seed=246)\n",
    "#         print stats.norm.rvs()\n",
    "    perfs.append(perf)\n",
    "    failures.append(failure)\n",
    "plot(perfs, failures)"
   ]
  },
  {
   "cell_type": "code",
   "execution_count": null,
   "metadata": {},
   "outputs": [],
   "source": [
    "p41, f41 = perfs, failures\n",
    "figure(figsize=(12, 8))\n",
    "plot(perfsg, failuresg, \"-o\")\n",
    "# plot(p21, f21, \"-x\")\n",
    "plot(p41, f41, \"-+\")\n",
    "grid()\n",
    "xlim(1000, 1800)\n",
    "ylim(0, 80)"
   ]
  },
  {
   "cell_type": "code",
   "execution_count": 1,
   "metadata": {},
   "outputs": [],
   "source": [
    "perfs = [1019.7743072756472, 1032.9725989518704, 1046.4061143398794, 1060.0805781659224, 1074.0017863593753, 1088.1756828657847, 1102.6085248138868, 1117.3066457085897, 1132.2766015164893, 1147.5251460676013, 1163.059237459321, 1178.886044631051, 1195.0129541116255, 1211.447576938435, 1228.1977557467944, 1245.271572027678, 1262.6773535498396, 1280.4236819412108, 1298.5194004231953, 1316.9736216894867, 1335.7957359189836, 1354.9954189101359, 1374.5826403214496, 1394.5676720000843, 1414.9610963774057, 1435.773814905881, 1457.0170565088588, 1478.7023860093948, 1500.8417124989273, 1523.447297602712, 1546.531763594669, 1570.1081012752263, 1594.189677610427, 1618.7902429887286, 1643.9239380512215, 1669.6052999886624, 1695.849268201458, 1722.6709107399322, 1750.0864691467884, 1778.111891043543, 1806.763759321267]"
   ]
  },
  {
   "cell_type": "code",
   "execution_count": null,
   "metadata": {},
   "outputs": [],
   "source": [
    "failures = [76.0, 71.0, 68.0, 65.0, 61.0, 58.0, 53.0, 52.0, 48.0, 40.0, 35.0, 33.0, 30.0, 30.0, 25.0, 24.0, 22.0, 18.0, 17.0, 14.0, 11.0, 9.0, 9.0, 7.0, 2.0, 2.0, 2.0, 2.0, 2.0, 2.0, 2.0, 1.0, 1.0, 1.0, 1.0, 1.0, 0.0, 0.0, 0.0, 0.0, 0.0]"
   ]
  },
  {
   "cell_type": "code",
   "execution_count": null,
   "metadata": {},
   "outputs": [
    {
     "name": "stdout",
     "output_type": "stream",
     "text": [
      "Populating the interactive namespace from numpy and matplotlib\n"
     ]
    },
    {
     "name": "stderr",
     "output_type": "stream",
     "text": [
      "/usr/local/lib/python2.7/dist-packages/IPython/core/magics/pylab.py:161: UserWarning: pylab import has clobbered these variables: ['gamma']\n",
      "`%matplotlib` prevents importing * from pylab and numpy\n",
      "  \"\\n`%matplotlib` prevents importing * from pylab and numpy\"\n"
     ]
    },
    {
     "name": "stdout",
     "output_type": "stream",
     "text": [
      "Fuel consumption: 1019 lbs\n",
      "    Failure rate:  76% \n",
      "Fuel consumption: 1032 lbs\n",
      "    Failure rate:  71% \n",
      "Fuel consumption: 1046 lbs\n",
      "    Failure rate:  68% \n",
      "Fuel consumption: 1060 lbs\n",
      "    Failure rate:  65% \n",
      "Fuel consumption: 1074 lbs\n",
      "    Failure rate:  61% \n",
      "Fuel consumption: 1088 lbs\n",
      "    Failure rate:  58% \n",
      "Fuel consumption: 1102 lbs\n",
      "    Failure rate:  53% \n",
      "Fuel consumption: 1117 lbs\n",
      "    Failure rate:  52% \n",
      "Fuel consumption: 1132 lbs\n",
      "    Failure rate:  48% \n",
      "Fuel consumption: 1147 lbs\n",
      "    Failure rate:  40% \n",
      "Fuel consumption: 1163 lbs\n",
      "    Failure rate:  35% \n",
      "Fuel consumption: 1178 lbs\n",
      "    Failure rate:  33% \n",
      "Fuel consumption: 1195 lbs\n",
      "    Failure rate:  30% \n",
      "Fuel consumption: 1211 lbs\n",
      "    Failure rate:  30% \n",
      "Fuel consumption: 1228 lbs\n",
      "    Failure rate:  25% \n",
      "Fuel consumption: 1245 lbs\n",
      "    Failure rate:  24% \n",
      "Fuel consumption: 1262 lbs\n",
      "    Failure rate:  22% \n",
      "Fuel consumption: 1280 lbs\n",
      "    Failure rate:  18% \n",
      "Fuel consumption: 1298 lbs\n",
      "    Failure rate:  17% \n",
      "Fuel consumption: 1316 lbs\n",
      "    Failure rate:  14% \n",
      "Fuel consumption: 1335 lbs\n",
      "    Failure rate:  11% \n",
      "Fuel consumption: 1354 lbs\n",
      "    Failure rate:  9% \n",
      "Fuel consumption: 1374 lbs\n",
      "    Failure rate:  9% \n",
      "Fuel consumption: 1394 lbs\n",
      "    Failure rate:  7% \n",
      "Fuel consumption: 1414 lbs\n",
      "    Failure rate:  2% \n",
      "Fuel consumption: 1435 lbs\n",
      "    Failure rate:  2% \n",
      "Fuel consumption: 1457 lbs\n",
      "    Failure rate:  2% \n",
      "Fuel consumption: 1478 lbs\n",
      "    Failure rate:  2% \n",
      "Fuel consumption: 1500 lbs\n",
      "    Failure rate:  2% \n",
      "Fuel consumption: 1523 lbs\n",
      "    Failure rate:  2% \n",
      "Fuel consumption: 1546 lbs\n",
      "    Failure rate:  2% \n",
      "Fuel consumption: 1570 lbs\n",
      "    Failure rate:  1% \n",
      "Fuel consumption: 1594 lbs\n",
      "    Failure rate:  1% \n",
      "Fuel consumption: 1618 lbs\n",
      "    Failure rate:  1% \n",
      "Fuel consumption: 1643 lbs\n"
     ]
    }
   ],
   "source": [
    "%pylab inline\n",
    "\n",
    "wing_weight_pr = 10\n",
    "tsfc_pr = 10.\n",
    "v_min_pr = 20.\n",
    "range_pr = 10.\n",
    "\n",
    "# EXPERIMENT PARTICIPANTS: DON'T MODIFY BELOW THIS!!! #\n",
    "\n",
    "\n",
    "from simpleac import SimPleAC\n",
    "from monte_carlo import monte_carlo_results\n",
    "from robust.robust import RobustModel\n",
    "from gpkit import Variable, units\n",
    "\n",
    "perfsg, failuresg = [], []\n",
    "for perf in perfs:\n",
    "    gamma = Variable('Gamma', '-', 'Uncertainty bound')\n",
    "    m = SimPleAC(wing_weight_pr, tsfc_pr, v_min_pr, range_pr)\n",
    "    nominal_sol = m.localsolve(verbosity=0)\n",
    "\n",
    "    m.append(m[\"W_f\"] <= perf*units.lbf)\n",
    "    m.append(gamma <= 1e30)\n",
    "    m.cost = 1/gamma\n",
    "\n",
    "    rm = RobustModel(m, \"box\", gamma=gamma,\n",
    "                     twoTerm=False, boyd=False, simpleModel=True,\n",
    "                     nominalsolve=nominal_sol)\n",
    "\n",
    "    rm_sol = rm.robustsolve(verbosity=0)\n",
    "    m = SimPleAC(wing_weight_pr, tsfc_pr, v_min_pr, range_pr)\n",
    "    perf, failure = monte_carlo_results(m, sol=rm_sol)\n",
    "    perfsg.append(perf)\n",
    "    failuresg.append(failure)\n"
   ]
  },
  {
   "cell_type": "code",
   "execution_count": 14,
   "metadata": {},
   "outputs": [
    {
     "name": "stdout",
     "output_type": "stream",
     "text": [
      "Fuel consumption: 1282 lbs\n",
      "    Failure rate:  23% \n",
      "Fuel consumption: 1282 lbs\n",
      "    Failure rate:  30% \n",
      "Fuel consumption: 1282 lbs\n",
      "    Failure rate:  21% \n",
      "Fuel consumption: 1282 lbs\n",
      "    Failure rate:  22% \n",
      "Fuel consumption: 1282 lbs\n"
     ]
    },
    {
     "ename": "KeyboardInterrupt",
     "evalue": "",
     "output_type": "error",
     "traceback": [
      "\u001b[0;31m---------------------------------------------------------------------------\u001b[0m",
      "\u001b[0;31mKeyboardInterrupt\u001b[0m                         Traceback (most recent call last)",
      "\u001b[0;32m<ipython-input-14-35316a38aeff>\u001b[0m in \u001b[0;36m<module>\u001b[0;34m()\u001b[0m\n\u001b[1;32m     57\u001b[0m     \u001b[0mnp\u001b[0m\u001b[0;34m.\u001b[0m\u001b[0mrandom\u001b[0m\u001b[0;34m.\u001b[0m\u001b[0mseed\u001b[0m\u001b[0;34m(\u001b[0m\u001b[0mseed\u001b[0m\u001b[0;34m=\u001b[0m\u001b[0;36m246\u001b[0m\u001b[0;34m)\u001b[0m\u001b[0;34m\u001b[0m\u001b[0m\n\u001b[1;32m     58\u001b[0m \u001b[0;31m#         print stats.norm.rvs()\u001b[0m\u001b[0;34m\u001b[0m\u001b[0;34m\u001b[0m\u001b[0m\n\u001b[0;32m---> 59\u001b[0;31m     \u001b[0mperf\u001b[0m\u001b[0;34m,\u001b[0m \u001b[0mfailure\u001b[0m \u001b[0;34m=\u001b[0m \u001b[0mmonte_carlo_results\u001b[0m\u001b[0;34m(\u001b[0m\u001b[0mm\u001b[0m\u001b[0;34m,\u001b[0m \u001b[0msol\u001b[0m\u001b[0;34m=\u001b[0m\u001b[0mrm_sol\u001b[0m\u001b[0;34m)\u001b[0m\u001b[0;34m\u001b[0m\u001b[0m\n\u001b[0m\u001b[1;32m     60\u001b[0m     \u001b[0mnp\u001b[0m\u001b[0;34m.\u001b[0m\u001b[0mrandom\u001b[0m\u001b[0;34m.\u001b[0m\u001b[0mseed\u001b[0m\u001b[0;34m(\u001b[0m\u001b[0mseed\u001b[0m\u001b[0;34m=\u001b[0m\u001b[0;36m246\u001b[0m\u001b[0;34m)\u001b[0m\u001b[0;34m\u001b[0m\u001b[0m\n\u001b[1;32m     61\u001b[0m \u001b[0;31m#         print stats.norm.rvs()\u001b[0m\u001b[0;34m\u001b[0m\u001b[0;34m\u001b[0m\u001b[0m\n",
      "\u001b[0;32m/home/tao/projects/ce/robust_experiment/monte_carlo.pyc\u001b[0m in \u001b[0;36mmonte_carlo_results\u001b[0;34m(m, progress, out, sol)\u001b[0m\n\u001b[1;32m     36\u001b[0m                 \u001b[0;31m# assert not does_it_fail(sol, W_W_coeff1)\u001b[0m\u001b[0;34m\u001b[0m\u001b[0;34m\u001b[0m\u001b[0m\n\u001b[1;32m     37\u001b[0m                 \u001b[0;31m# UNCOMMENT THE ABOVE AND COMMENT OUT THE BELOW TO SPEED UP\u001b[0m\u001b[0;34m\u001b[0m\u001b[0;34m\u001b[0m\u001b[0m\n\u001b[0;32m---> 38\u001b[0;31m                 \u001b[0mm\u001b[0m\u001b[0;34m.\u001b[0m\u001b[0msolve\u001b[0m\u001b[0;34m(\u001b[0m\u001b[0mverbosity\u001b[0m\u001b[0;34m=\u001b[0m\u001b[0;36m0\u001b[0m\u001b[0;34m)\u001b[0m\u001b[0;34m\u001b[0m\u001b[0m\n\u001b[0m\u001b[1;32m     39\u001b[0m             \u001b[0;32mexcept\u001b[0m \u001b[0mException\u001b[0m\u001b[0;34m:\u001b[0m\u001b[0;34m\u001b[0m\u001b[0m\n\u001b[1;32m     40\u001b[0m                 \u001b[0mfailures\u001b[0m \u001b[0;34m+=\u001b[0m \u001b[0;36m1\u001b[0m\u001b[0;34m\u001b[0m\u001b[0m\n",
      "\u001b[0;32m/home/tao/projects/ce/gpkit/gpkit/constraints/prog_factories.pyc\u001b[0m in \u001b[0;36msolvefn\u001b[0;34m(self, solver, verbosity, skipsweepfailures, **kwargs)\u001b[0m\n\u001b[1;32m    121\u001b[0m                       solver, verbosity, **kwargs)\n\u001b[1;32m    122\u001b[0m         \u001b[0;32melse\u001b[0m\u001b[0;34m:\u001b[0m\u001b[0;34m\u001b[0m\u001b[0m\n\u001b[0;32m--> 123\u001b[0;31m             \u001b[0mself\u001b[0m\u001b[0;34m.\u001b[0m\u001b[0mprogram\u001b[0m\u001b[0;34m,\u001b[0m \u001b[0mprogsolve\u001b[0m \u001b[0;34m=\u001b[0m \u001b[0mgenfunction\u001b[0m\u001b[0;34m(\u001b[0m\u001b[0mself\u001b[0m\u001b[0;34m)\u001b[0m\u001b[0;34m\u001b[0m\u001b[0m\n\u001b[0m\u001b[1;32m    124\u001b[0m             \u001b[0mresult\u001b[0m \u001b[0;34m=\u001b[0m \u001b[0mprogsolve\u001b[0m\u001b[0;34m(\u001b[0m\u001b[0msolver\u001b[0m\u001b[0;34m,\u001b[0m \u001b[0mverbosity\u001b[0m\u001b[0;34m,\u001b[0m \u001b[0;34m**\u001b[0m\u001b[0mkwargs\u001b[0m\u001b[0;34m)\u001b[0m\u001b[0;34m\u001b[0m\u001b[0m\n\u001b[1;32m    125\u001b[0m             \u001b[0msolution\u001b[0m\u001b[0;34m.\u001b[0m\u001b[0mappend\u001b[0m\u001b[0;34m(\u001b[0m\u001b[0mresult\u001b[0m\u001b[0;34m)\u001b[0m\u001b[0;34m\u001b[0m\u001b[0m\n",
      "\u001b[0;32m/home/tao/projects/ce/gpkit/gpkit/constraints/prog_factories.pyc\u001b[0m in \u001b[0;36mprogramify\u001b[0;34m(self, constants, **kwargs)\u001b[0m\n\u001b[1;32m     78\u001b[0m             \u001b[0;32mif\u001b[0m \u001b[0mlinked\u001b[0m\u001b[0;34m:\u001b[0m\u001b[0;34m\u001b[0m\u001b[0m\n\u001b[1;32m     79\u001b[0m                 \u001b[0mevaluate_linked\u001b[0m\u001b[0;34m(\u001b[0m\u001b[0mconstants\u001b[0m\u001b[0;34m,\u001b[0m \u001b[0mlinked\u001b[0m\u001b[0;34m)\u001b[0m\u001b[0;34m\u001b[0m\u001b[0m\n\u001b[0;32m---> 80\u001b[0;31m         \u001b[0mprog\u001b[0m \u001b[0;34m=\u001b[0m \u001b[0mprogram\u001b[0m\u001b[0;34m(\u001b[0m\u001b[0mself\u001b[0m\u001b[0;34m.\u001b[0m\u001b[0mcost\u001b[0m\u001b[0;34m,\u001b[0m \u001b[0mself\u001b[0m\u001b[0;34m,\u001b[0m \u001b[0mconstants\u001b[0m\u001b[0;34m,\u001b[0m \u001b[0;34m**\u001b[0m\u001b[0mkwargs\u001b[0m\u001b[0;34m)\u001b[0m\u001b[0;34m\u001b[0m\u001b[0m\n\u001b[0m\u001b[1;32m     81\u001b[0m         \u001b[0;32mif\u001b[0m \u001b[0mreturn_attr\u001b[0m\u001b[0;34m:\u001b[0m\u001b[0;34m\u001b[0m\u001b[0m\n\u001b[1;32m     82\u001b[0m             \u001b[0;32mreturn\u001b[0m \u001b[0mprog\u001b[0m\u001b[0;34m,\u001b[0m \u001b[0mgetattr\u001b[0m\u001b[0;34m(\u001b[0m\u001b[0mprog\u001b[0m\u001b[0;34m,\u001b[0m \u001b[0mreturn_attr\u001b[0m\u001b[0;34m)\u001b[0m\u001b[0;34m\u001b[0m\u001b[0m\n",
      "\u001b[0;32m/home/tao/projects/ce/gpkit/gpkit/constraints/gp.pyc\u001b[0m in \u001b[0;36m__init__\u001b[0;34m(self, cost, constraints, substitutions, allow_missingbounds)\u001b[0m\n\u001b[1;32m     91\u001b[0m         \u001b[0;32mexcept\u001b[0m \u001b[0mInvalidPosynomial\u001b[0m\u001b[0;34m:\u001b[0m\u001b[0;34m\u001b[0m\u001b[0m\n\u001b[1;32m     92\u001b[0m             \u001b[0;32mraise\u001b[0m \u001b[0mInvalidPosynomial\u001b[0m\u001b[0;34m(\u001b[0m\u001b[0;34m\"cost must be a Posynomial\"\u001b[0m\u001b[0;34m)\u001b[0m\u001b[0;34m\u001b[0m\u001b[0m\n\u001b[0;32m---> 93\u001b[0;31m         \u001b[0mself\u001b[0m\u001b[0;34m.\u001b[0m\u001b[0mposynomials\u001b[0m\u001b[0;34m.\u001b[0m\u001b[0mextend\u001b[0m\u001b[0;34m(\u001b[0m\u001b[0mself\u001b[0m\u001b[0;34m.\u001b[0m\u001b[0mas_posyslt1\u001b[0m\u001b[0;34m(\u001b[0m\u001b[0mself\u001b[0m\u001b[0;34m.\u001b[0m\u001b[0msubstitutions\u001b[0m\u001b[0;34m)\u001b[0m\u001b[0;34m)\u001b[0m\u001b[0;34m\u001b[0m\u001b[0m\n\u001b[0m\u001b[1;32m     94\u001b[0m         \u001b[0mself\u001b[0m\u001b[0;34m.\u001b[0m\u001b[0mhmaps\u001b[0m \u001b[0;34m=\u001b[0m \u001b[0;34m[\u001b[0m\u001b[0mp\u001b[0m\u001b[0;34m.\u001b[0m\u001b[0mhmap\u001b[0m \u001b[0;32mfor\u001b[0m \u001b[0mp\u001b[0m \u001b[0;32min\u001b[0m \u001b[0mself\u001b[0m\u001b[0;34m.\u001b[0m\u001b[0mposynomials\u001b[0m\u001b[0;34m]\u001b[0m\u001b[0;34m\u001b[0m\u001b[0m\n\u001b[1;32m     95\u001b[0m         \u001b[0;31m## Generate various maps into the posy- and monomials\u001b[0m\u001b[0;34m\u001b[0m\u001b[0;34m\u001b[0m\u001b[0m\n",
      "\u001b[0;32m/home/tao/projects/ce/gpkit/gpkit/constraints/set.pyc\u001b[0m in \u001b[0;36mas_posyslt1\u001b[0;34m(self, substitutions)\u001b[0m\n\u001b[1;32m    192\u001b[0m             \u001b[0;32mif\u001b[0m \u001b[0;32mnot\u001b[0m \u001b[0mhasattr\u001b[0m\u001b[0;34m(\u001b[0m\u001b[0mconstraint\u001b[0m\u001b[0;34m,\u001b[0m \u001b[0;34m\"as_posyslt1\"\u001b[0m\u001b[0;34m)\u001b[0m\u001b[0;34m:\u001b[0m\u001b[0;34m\u001b[0m\u001b[0m\n\u001b[1;32m    193\u001b[0m                 \u001b[0mraise_badelement\u001b[0m\u001b[0;34m(\u001b[0m\u001b[0mself\u001b[0m\u001b[0;34m,\u001b[0m \u001b[0mi\u001b[0m\u001b[0;34m,\u001b[0m \u001b[0mconstraint\u001b[0m\u001b[0;34m)\u001b[0m\u001b[0;34m\u001b[0m\u001b[0m\n\u001b[0;32m--> 194\u001b[0;31m             \u001b[0mposys\u001b[0m \u001b[0;34m=\u001b[0m \u001b[0mconstraint\u001b[0m\u001b[0;34m.\u001b[0m\u001b[0mas_posyslt1\u001b[0m\u001b[0;34m(\u001b[0m\u001b[0msubstitutions\u001b[0m\u001b[0;34m)\u001b[0m\u001b[0;34m\u001b[0m\u001b[0m\n\u001b[0m\u001b[1;32m    195\u001b[0m             \u001b[0mself\u001b[0m\u001b[0;34m.\u001b[0m\u001b[0mposymap\u001b[0m\u001b[0;34m.\u001b[0m\u001b[0mappend\u001b[0m\u001b[0;34m(\u001b[0m\u001b[0mlen\u001b[0m\u001b[0;34m(\u001b[0m\u001b[0mposys\u001b[0m\u001b[0;34m)\u001b[0m\u001b[0;34m)\u001b[0m\u001b[0;34m\u001b[0m\u001b[0m\n\u001b[1;32m    196\u001b[0m             \u001b[0mposylist\u001b[0m\u001b[0;34m.\u001b[0m\u001b[0mextend\u001b[0m\u001b[0;34m(\u001b[0m\u001b[0mposys\u001b[0m\u001b[0;34m)\u001b[0m\u001b[0;34m\u001b[0m\u001b[0m\n",
      "\u001b[0;32m/home/tao/projects/ce/gpkit/gpkit/constraints/set.pyc\u001b[0m in \u001b[0;36mas_posyslt1\u001b[0;34m(self, substitutions)\u001b[0m\n\u001b[1;32m    192\u001b[0m             \u001b[0;32mif\u001b[0m \u001b[0;32mnot\u001b[0m \u001b[0mhasattr\u001b[0m\u001b[0;34m(\u001b[0m\u001b[0mconstraint\u001b[0m\u001b[0;34m,\u001b[0m \u001b[0;34m\"as_posyslt1\"\u001b[0m\u001b[0;34m)\u001b[0m\u001b[0;34m:\u001b[0m\u001b[0;34m\u001b[0m\u001b[0m\n\u001b[1;32m    193\u001b[0m                 \u001b[0mraise_badelement\u001b[0m\u001b[0;34m(\u001b[0m\u001b[0mself\u001b[0m\u001b[0;34m,\u001b[0m \u001b[0mi\u001b[0m\u001b[0;34m,\u001b[0m \u001b[0mconstraint\u001b[0m\u001b[0;34m)\u001b[0m\u001b[0;34m\u001b[0m\u001b[0m\n\u001b[0;32m--> 194\u001b[0;31m             \u001b[0mposys\u001b[0m \u001b[0;34m=\u001b[0m \u001b[0mconstraint\u001b[0m\u001b[0;34m.\u001b[0m\u001b[0mas_posyslt1\u001b[0m\u001b[0;34m(\u001b[0m\u001b[0msubstitutions\u001b[0m\u001b[0;34m)\u001b[0m\u001b[0;34m\u001b[0m\u001b[0m\n\u001b[0m\u001b[1;32m    195\u001b[0m             \u001b[0mself\u001b[0m\u001b[0;34m.\u001b[0m\u001b[0mposymap\u001b[0m\u001b[0;34m.\u001b[0m\u001b[0mappend\u001b[0m\u001b[0;34m(\u001b[0m\u001b[0mlen\u001b[0m\u001b[0;34m(\u001b[0m\u001b[0mposys\u001b[0m\u001b[0;34m)\u001b[0m\u001b[0;34m)\u001b[0m\u001b[0;34m\u001b[0m\u001b[0m\n\u001b[1;32m    196\u001b[0m             \u001b[0mposylist\u001b[0m\u001b[0;34m.\u001b[0m\u001b[0mextend\u001b[0m\u001b[0;34m(\u001b[0m\u001b[0mposys\u001b[0m\u001b[0;34m)\u001b[0m\u001b[0;34m\u001b[0m\u001b[0m\n",
      "\u001b[0;32m/home/tao/projects/ce/gpkit/gpkit/nomials/math.pyc\u001b[0m in \u001b[0;36mas_posyslt1\u001b[0;34m(self, substitutions)\u001b[0m\n\u001b[1;32m    503\u001b[0m             \u001b[0mself\u001b[0m\u001b[0;34m.\u001b[0m\u001b[0m_last_used_substitutions\u001b[0m\u001b[0;34m.\u001b[0m\u001b[0mupdate\u001b[0m\u001b[0;34m(\u001b[0m\u001b[0mfixed\u001b[0m\u001b[0;34m)\u001b[0m\u001b[0;34m\u001b[0m\u001b[0m\n\u001b[1;32m    504\u001b[0m             \u001b[0mhmap\u001b[0m \u001b[0;34m=\u001b[0m \u001b[0mposy\u001b[0m\u001b[0;34m.\u001b[0m\u001b[0mhmap\u001b[0m\u001b[0;34m.\u001b[0m\u001b[0msub\u001b[0m\u001b[0;34m(\u001b[0m\u001b[0mfixed\u001b[0m\u001b[0;34m,\u001b[0m \u001b[0mposy\u001b[0m\u001b[0;34m.\u001b[0m\u001b[0mvarkeys\u001b[0m\u001b[0;34m,\u001b[0m \u001b[0mparsedsubs\u001b[0m\u001b[0;34m=\u001b[0m\u001b[0mTrue\u001b[0m\u001b[0;34m)\u001b[0m\u001b[0;34m\u001b[0m\u001b[0m\n\u001b[0;32m--> 505\u001b[0;31m             \u001b[0mself\u001b[0m\u001b[0;34m.\u001b[0m\u001b[0mpmap\u001b[0m\u001b[0;34m,\u001b[0m \u001b[0mself\u001b[0m\u001b[0;34m.\u001b[0m\u001b[0mmfm\u001b[0m \u001b[0;34m=\u001b[0m \u001b[0mhmap\u001b[0m\u001b[0;34m.\u001b[0m\u001b[0mmmap\u001b[0m\u001b[0;34m(\u001b[0m\u001b[0mposy\u001b[0m\u001b[0;34m.\u001b[0m\u001b[0mhmap\u001b[0m\u001b[0;34m)\u001b[0m  \u001b[0;31m# pylint: disable=attribute-defined-outside-init\u001b[0m\u001b[0;34m\u001b[0m\u001b[0m\n\u001b[0m\u001b[1;32m    506\u001b[0m             \u001b[0mhmap\u001b[0m \u001b[0;34m=\u001b[0m \u001b[0mself\u001b[0m\u001b[0;34m.\u001b[0m\u001b[0m_simplify_posy_ineq\u001b[0m\u001b[0;34m(\u001b[0m\u001b[0mhmap\u001b[0m\u001b[0;34m,\u001b[0m \u001b[0mself\u001b[0m\u001b[0;34m.\u001b[0m\u001b[0mpmap\u001b[0m\u001b[0;34m)\u001b[0m\u001b[0;34m\u001b[0m\u001b[0m\n\u001b[1;32m    507\u001b[0m             \u001b[0;32mif\u001b[0m \u001b[0mhmap\u001b[0m \u001b[0;32mis\u001b[0m \u001b[0mNone\u001b[0m\u001b[0;34m:\u001b[0m\u001b[0;34m\u001b[0m\u001b[0m\n",
      "\u001b[0;32m/home/tao/projects/ce/gpkit/gpkit/nomials/map.pyc\u001b[0m in \u001b[0;36mmmap\u001b[0;34m(self, orig)\u001b[0m\n\u001b[1;32m    163\u001b[0m                 \u001b[0mfraction\u001b[0m \u001b[0;34m=\u001b[0m \u001b[0mself\u001b[0m\u001b[0;34m.\u001b[0m\u001b[0mcsmap\u001b[0m\u001b[0;34m.\u001b[0m\u001b[0mget\u001b[0m\u001b[0;34m(\u001b[0m\u001b[0morig_exp\u001b[0m\u001b[0;34m,\u001b[0m \u001b[0morig\u001b[0m\u001b[0;34m[\u001b[0m\u001b[0morig_exp\u001b[0m\u001b[0;34m]\u001b[0m\u001b[0;34m)\u001b[0m\u001b[0;34m/\u001b[0m\u001b[0mtotal_c\u001b[0m\u001b[0;34m\u001b[0m\u001b[0m\n\u001b[1;32m    164\u001b[0m                 \u001b[0mm_from_ms\u001b[0m\u001b[0;34m[\u001b[0m\u001b[0mself_exp\u001b[0m\u001b[0;34m]\u001b[0m\u001b[0;34m[\u001b[0m\u001b[0morig_exp\u001b[0m\u001b[0;34m]\u001b[0m \u001b[0;34m=\u001b[0m \u001b[0mfraction\u001b[0m\u001b[0;34m\u001b[0m\u001b[0m\n\u001b[0;32m--> 165\u001b[0;31m                 \u001b[0morig_idx\u001b[0m \u001b[0;34m=\u001b[0m \u001b[0morigexps\u001b[0m\u001b[0;34m.\u001b[0m\u001b[0mindex\u001b[0m\u001b[0;34m(\u001b[0m\u001b[0morig_exp\u001b[0m\u001b[0;34m)\u001b[0m\u001b[0;34m\u001b[0m\u001b[0m\n\u001b[0m\u001b[1;32m    166\u001b[0m                 \u001b[0mpmap\u001b[0m\u001b[0;34m[\u001b[0m\u001b[0mselfexps\u001b[0m\u001b[0;34m.\u001b[0m\u001b[0mindex\u001b[0m\u001b[0;34m(\u001b[0m\u001b[0mself_exp\u001b[0m\u001b[0;34m)\u001b[0m\u001b[0;34m]\u001b[0m\u001b[0;34m[\u001b[0m\u001b[0morig_idx\u001b[0m\u001b[0;34m]\u001b[0m \u001b[0;34m=\u001b[0m \u001b[0mfraction\u001b[0m\u001b[0;34m\u001b[0m\u001b[0m\n\u001b[1;32m    167\u001b[0m         \u001b[0;32mreturn\u001b[0m \u001b[0mpmap\u001b[0m\u001b[0;34m,\u001b[0m \u001b[0mm_from_ms\u001b[0m\u001b[0;34m\u001b[0m\u001b[0m\n",
      "\u001b[0;31mKeyboardInterrupt\u001b[0m: "
     ]
    },
    {
     "data": {
      "text/plain": [
       "<matplotlib.figure.Figure at 0x7fe1f9140d10>"
      ]
     },
     "metadata": {},
     "output_type": "display_data"
    }
   ],
   "source": [
    "import numpy as np\n",
    "import scipy.stats as stats\n",
    "\n",
    "from simpleac import SimPleAC\n",
    "from monte_carlo import monte_carlo_results\n",
    "from robust.robust import RobustModel\n",
    "\n",
    "\n",
    "f = figure(figsize=(12, 6))\n",
    "perfs = []\n",
    "failures  = []\n",
    "\n",
    "# np.random.seed(seed=246)\n",
    "# #         print stats.norm.rvs()\n",
    "# m = SimPleAC(wing_weight_pr, tsfc_pr, v_min_pr, range_pr)\n",
    "# np.random.seed(seed=246)\n",
    "# #         print stats.norm.rvs()\n",
    "# nominal_sol = m.localsolve(verbosity=0)\n",
    "\n",
    "# np.random.seed(seed=246)\n",
    "# #         print stats.norm.rvs()\n",
    "# rm = RobustModel(m, \"elliptical\", gamma=gamma, twoTerm=False,\n",
    "#                  boyd=False, simpleModel=False,\n",
    "#                  nominalsolve=nominal_sol)\n",
    "# rm_sol = rm.robustsolve(verbosity=0,\n",
    "#                             minNumOfLinearSections=3,\n",
    "#                             maxNumOfLinearSections=99,\n",
    "#                             linearizationTolerance=1e-4)\n",
    "\n",
    "for _ in range(11):\n",
    "    gamma = 0.3\n",
    "    wing_weight_pr = 10.\n",
    "    tsfc_pr = 10.\n",
    "    v_min_pr = 20.\n",
    "    range_pr = 10.\n",
    "\n",
    "    np.random.seed(seed=246)\n",
    "#         print stats.norm.rvs()\n",
    "    m = SimPleAC(wing_weight_pr, tsfc_pr, v_min_pr, range_pr)\n",
    "    np.random.seed(seed=246)\n",
    "#         print stats.norm.rvs()\n",
    "    nominal_sol = m.localsolve(verbosity=0)\n",
    "\n",
    "    np.random.seed(seed=246)\n",
    "#         print stats.norm.rvs()\n",
    "    rm = RobustModel(m, \"elliptical\", gamma=gamma, twoTerm=False,\n",
    "                     boyd=False, simpleModel=True,\n",
    "                     nominalsolve=nominal_sol)\n",
    "    np.random.seed(seed=246)\n",
    "#         print stats.norm.rvs()\n",
    "    rm_sol = rm.robustsolve(verbosity=0,\n",
    "                            minNumOfLinearSections=50,\n",
    "                            maxNumOfLinearSections=50,\n",
    "                            linearizationTolerance=1e-5)\n",
    "    np.random.seed(seed=246)\n",
    "#         print stats.norm.rvs()\n",
    "    perf, failure = monte_carlo_results(m, sol=rm_sol)\n",
    "    \n",
    "    perfs.append(perf)\n",
    "    failures.append(failure)\n",
    "plot(failures)"
   ]
  },
  {
   "cell_type": "code",
   "execution_count": 19,
   "metadata": {},
   "outputs": [
    {
     "ename": "RuntimeWarning",
     "evalue": "problem unsolved after 52 iterations.\n\n    The last result is available in Model.program.gps[-1].result. If the gps\n    appear to be converging, you may wish to increase the iteration limit by\n    calling .localsolve(..., iteration_limit=NEWLIMIT).",
     "output_type": "error",
     "traceback": [
      "\u001b[0;31m---------------------------------------------------------------------------\u001b[0m",
      "\u001b[0;31mRuntimeWarning\u001b[0m                            Traceback (most recent call last)",
      "\u001b[0;32m<ipython-input-19-c9f79c043954>\u001b[0m in \u001b[0;36m<module>\u001b[0;34m()\u001b[0m\n\u001b[1;32m     32\u001b[0m \u001b[0;31m#         print stats.norm.rvs()\u001b[0m\u001b[0;34m\u001b[0m\u001b[0;34m\u001b[0m\u001b[0m\n\u001b[1;32m     33\u001b[0m     rm = RobustModel(m, \"elliptical\", gamma=gamma, twoTerm=False,\n\u001b[0;32m---> 34\u001b[0;31m                      boyd=False, simpleModel=True)\n\u001b[0m\u001b[1;32m     35\u001b[0m     \u001b[0mnp\u001b[0m\u001b[0;34m.\u001b[0m\u001b[0mrandom\u001b[0m\u001b[0;34m.\u001b[0m\u001b[0mseed\u001b[0m\u001b[0;34m(\u001b[0m\u001b[0mseed\u001b[0m\u001b[0;34m=\u001b[0m\u001b[0;36m246\u001b[0m\u001b[0;34m)\u001b[0m\u001b[0;34m\u001b[0m\u001b[0m\n\u001b[1;32m     36\u001b[0m \u001b[0;31m#         print stats.norm.rvs()\u001b[0m\u001b[0;34m\u001b[0m\u001b[0;34m\u001b[0m\u001b[0m\n",
      "\u001b[0;32m/home/tao/projects/ce/robust/robust/robust.pyc\u001b[0m in \u001b[0;36m__init__\u001b[0;34m(self, model, type_of_uncertainty_set, **options)\u001b[0m\n\u001b[1;32m     80\u001b[0m             \u001b[0mself\u001b[0m\u001b[0;34m.\u001b[0m\u001b[0mnominal_solve\u001b[0m \u001b[0;34m=\u001b[0m \u001b[0moptions\u001b[0m\u001b[0;34m[\u001b[0m\u001b[0;34m'nominalsolve'\u001b[0m\u001b[0;34m]\u001b[0m\u001b[0;34m\u001b[0m\u001b[0m\n\u001b[1;32m     81\u001b[0m         \u001b[0;32melse\u001b[0m\u001b[0;34m:\u001b[0m\u001b[0;34m\u001b[0m\u001b[0m\n\u001b[0;32m---> 82\u001b[0;31m             \u001b[0mself\u001b[0m\u001b[0;34m.\u001b[0m\u001b[0mnominal_solve\u001b[0m \u001b[0;34m=\u001b[0m \u001b[0mRobustModel\u001b[0m\u001b[0;34m.\u001b[0m\u001b[0minternalsolve\u001b[0m\u001b[0;34m(\u001b[0m\u001b[0mmodel\u001b[0m\u001b[0;34m,\u001b[0m \u001b[0mverbosity\u001b[0m\u001b[0;34m=\u001b[0m\u001b[0;36m0\u001b[0m\u001b[0;34m)\u001b[0m\u001b[0;34m\u001b[0m\u001b[0m\n\u001b[0m\u001b[1;32m     83\u001b[0m         \u001b[0mself\u001b[0m\u001b[0;34m.\u001b[0m\u001b[0mnominal_solution\u001b[0m \u001b[0;34m=\u001b[0m \u001b[0mself\u001b[0m\u001b[0;34m.\u001b[0m\u001b[0mnominal_solve\u001b[0m\u001b[0;34m.\u001b[0m\u001b[0mget\u001b[0m\u001b[0;34m(\u001b[0m\u001b[0;34m'variables'\u001b[0m\u001b[0;34m)\u001b[0m\u001b[0;34m\u001b[0m\u001b[0m\n\u001b[1;32m     84\u001b[0m         \u001b[0mself\u001b[0m\u001b[0;34m.\u001b[0m\u001b[0mnominal_cost\u001b[0m \u001b[0;34m=\u001b[0m \u001b[0mself\u001b[0m\u001b[0;34m.\u001b[0m\u001b[0mnominal_solve\u001b[0m\u001b[0;34m[\u001b[0m\u001b[0;34m'cost'\u001b[0m\u001b[0;34m]\u001b[0m\u001b[0;34m\u001b[0m\u001b[0m\n",
      "\u001b[0;32m/home/tao/projects/ce/robust/robust/robust.pyc\u001b[0m in \u001b[0;36minternalsolve\u001b[0;34m(model, verbosity)\u001b[0m\n\u001b[1;32m    447\u001b[0m             \u001b[0;32mreturn\u001b[0m \u001b[0mmodel\u001b[0m\u001b[0;34m.\u001b[0m\u001b[0msolve\u001b[0m\u001b[0;34m(\u001b[0m\u001b[0mverbosity\u001b[0m\u001b[0;34m=\u001b[0m\u001b[0mverbosity\u001b[0m\u001b[0;34m)\u001b[0m\u001b[0;34m\u001b[0m\u001b[0m\n\u001b[1;32m    448\u001b[0m         \u001b[0;32mexcept\u001b[0m \u001b[0mInvalidGPConstraint\u001b[0m\u001b[0;34m:\u001b[0m\u001b[0;34m\u001b[0m\u001b[0m\n\u001b[0;32m--> 449\u001b[0;31m             \u001b[0;32mreturn\u001b[0m \u001b[0mmodel\u001b[0m\u001b[0;34m.\u001b[0m\u001b[0mlocalsolve\u001b[0m\u001b[0;34m(\u001b[0m\u001b[0mverbosity\u001b[0m\u001b[0;34m=\u001b[0m\u001b[0mverbosity\u001b[0m\u001b[0;34m)\u001b[0m\u001b[0;34m\u001b[0m\u001b[0m\n\u001b[0m\u001b[1;32m    450\u001b[0m \u001b[0;34m\u001b[0m\u001b[0m\n\u001b[1;32m    451\u001b[0m     \u001b[0;32mdef\u001b[0m \u001b[0mget_robust_model\u001b[0m\u001b[0;34m(\u001b[0m\u001b[0mself\u001b[0m\u001b[0;34m)\u001b[0m\u001b[0;34m:\u001b[0m\u001b[0;34m\u001b[0m\u001b[0m\n",
      "\u001b[0;32m/home/tao/projects/ce/gpkit/gpkit/constraints/prog_factories.pyc\u001b[0m in \u001b[0;36msolvefn\u001b[0;34m(self, solver, verbosity, skipsweepfailures, **kwargs)\u001b[0m\n\u001b[1;32m    122\u001b[0m         \u001b[0;32melse\u001b[0m\u001b[0;34m:\u001b[0m\u001b[0;34m\u001b[0m\u001b[0m\n\u001b[1;32m    123\u001b[0m             \u001b[0mself\u001b[0m\u001b[0;34m.\u001b[0m\u001b[0mprogram\u001b[0m\u001b[0;34m,\u001b[0m \u001b[0mprogsolve\u001b[0m \u001b[0;34m=\u001b[0m \u001b[0mgenfunction\u001b[0m\u001b[0;34m(\u001b[0m\u001b[0mself\u001b[0m\u001b[0;34m)\u001b[0m\u001b[0;34m\u001b[0m\u001b[0m\n\u001b[0;32m--> 124\u001b[0;31m             \u001b[0mresult\u001b[0m \u001b[0;34m=\u001b[0m \u001b[0mprogsolve\u001b[0m\u001b[0;34m(\u001b[0m\u001b[0msolver\u001b[0m\u001b[0;34m,\u001b[0m \u001b[0mverbosity\u001b[0m\u001b[0;34m,\u001b[0m \u001b[0;34m**\u001b[0m\u001b[0mkwargs\u001b[0m\u001b[0;34m)\u001b[0m\u001b[0;34m\u001b[0m\u001b[0m\n\u001b[0m\u001b[1;32m    125\u001b[0m             \u001b[0msolution\u001b[0m\u001b[0;34m.\u001b[0m\u001b[0mappend\u001b[0m\u001b[0;34m(\u001b[0m\u001b[0mresult\u001b[0m\u001b[0;34m)\u001b[0m\u001b[0;34m\u001b[0m\u001b[0m\n\u001b[1;32m    126\u001b[0m         \u001b[0msolution\u001b[0m\u001b[0;34m.\u001b[0m\u001b[0mprogram\u001b[0m \u001b[0;34m=\u001b[0m \u001b[0mself\u001b[0m\u001b[0;34m.\u001b[0m\u001b[0mprogram\u001b[0m\u001b[0;34m\u001b[0m\u001b[0m\n",
      "\u001b[0;32m/home/tao/projects/ce/gpkit/gpkit/constraints/sgp.pyc\u001b[0m in \u001b[0;36mlocalsolve\u001b[0;34m(self, solver, verbosity, x0, reltol, iteration_limit, mutategp, **kwargs)\u001b[0m\n\u001b[1;32m    129\u001b[0m     \u001b[0mThe\u001b[0m \u001b[0mlast\u001b[0m \u001b[0mresult\u001b[0m \u001b[0;32mis\u001b[0m \u001b[0mavailable\u001b[0m \u001b[0;32min\u001b[0m \u001b[0mModel\u001b[0m\u001b[0;34m.\u001b[0m\u001b[0mprogram\u001b[0m\u001b[0;34m.\u001b[0m\u001b[0mgps\u001b[0m\u001b[0;34m[\u001b[0m\u001b[0;34m-\u001b[0m\u001b[0;36m1\u001b[0m\u001b[0;34m]\u001b[0m\u001b[0;34m.\u001b[0m\u001b[0mresult\u001b[0m\u001b[0;34m.\u001b[0m \u001b[0mIf\u001b[0m \u001b[0mthe\u001b[0m \u001b[0mgps\u001b[0m\u001b[0;34m\u001b[0m\u001b[0m\n\u001b[1;32m    130\u001b[0m     \u001b[0mappear\u001b[0m \u001b[0mto\u001b[0m \u001b[0mbe\u001b[0m \u001b[0mconverging\u001b[0m\u001b[0;34m,\u001b[0m \u001b[0myou\u001b[0m \u001b[0mmay\u001b[0m \u001b[0mwish\u001b[0m \u001b[0mto\u001b[0m \u001b[0mincrease\u001b[0m \u001b[0mthe\u001b[0m \u001b[0miteration\u001b[0m \u001b[0mlimit\u001b[0m \u001b[0mby\u001b[0m\u001b[0;34m\u001b[0m\u001b[0m\n\u001b[0;32m--> 131\u001b[0;31m     calling .localsolve(..., iteration_limit=NEWLIMIT).\"\"\" % len(self.gps))\n\u001b[0m\u001b[1;32m    132\u001b[0m             \u001b[0mgp\u001b[0m \u001b[0;34m=\u001b[0m \u001b[0mself\u001b[0m\u001b[0;34m.\u001b[0m\u001b[0mgp\u001b[0m\u001b[0;34m(\u001b[0m\u001b[0mx0\u001b[0m\u001b[0;34m,\u001b[0m \u001b[0mmutategp\u001b[0m\u001b[0;34m)\u001b[0m\u001b[0;34m\u001b[0m\u001b[0m\n\u001b[1;32m    133\u001b[0m             \u001b[0mself\u001b[0m\u001b[0;34m.\u001b[0m\u001b[0mgps\u001b[0m\u001b[0;34m.\u001b[0m\u001b[0mappend\u001b[0m\u001b[0;34m(\u001b[0m\u001b[0mgp\u001b[0m\u001b[0;34m)\u001b[0m  \u001b[0;31m# NOTE: SIDE EFFECTS\u001b[0m\u001b[0;34m\u001b[0m\u001b[0m\n",
      "\u001b[0;31mRuntimeWarning\u001b[0m: problem unsolved after 52 iterations.\n\n    The last result is available in Model.program.gps[-1].result. If the gps\n    appear to be converging, you may wish to increase the iteration limit by\n    calling .localsolve(..., iteration_limit=NEWLIMIT)."
     ]
    },
    {
     "data": {
      "text/plain": [
       "<matplotlib.figure.Figure at 0x7fe1c0b4e890>"
      ]
     },
     "metadata": {},
     "output_type": "display_data"
    }
   ],
   "source": [
    "#### %pylab inline\n",
    "\n",
    "import numpy as np\n",
    "import scipy.stats as stats\n",
    "\n",
    "from simpleac import SimPleAC\n",
    "from monte_carlo import monte_carlo_results\n",
    "from robust.robust import RobustModel\n",
    "\n",
    "\n",
    "f = figure(figsize=(12, 6))\n",
    "perfs = []\n",
    "failures  = []\n",
    "from gpkit import Variable\n",
    "Gamma = Variable('\\\\Gamma', '-', 'Uncertainty bound')\n",
    "\n",
    "for _ in range(11):\n",
    "    wing_weight_pr = 10.\n",
    "    tsfc_pr = 10.\n",
    "    v_min_pr = 20.\n",
    "    range_pr = 10.\n",
    "\n",
    "    np.random.seed(seed=246)\n",
    "#         print stats.norm.rvs()\n",
    "    m = SimPleAC(wing_weight_pr, tsfc_pr, v_min_pr, range_pr)\n",
    "    m.append(m[\"W_f\"] <= 1200*m[\"W_f\"].units)\n",
    "    m.append(Gamma <= 1e-30)\n",
    "    m.cost = 1/Gamma\n",
    "    np.random.seed(seed=246)\n",
    "\n",
    "    np.random.seed(seed=246)\n",
    "#         print stats.norm.rvs()\n",
    "    rm = RobustModel(m, \"elliptical\", gamma=gamma, twoTerm=False,\n",
    "                     boyd=False, simpleModel=True)\n",
    "    np.random.seed(seed=246)\n",
    "#         print stats.norm.rvs()\n",
    "    rm_sol = rm.robustsolve(verbosity=0,\n",
    "                            minNumOfLinearSections=50,\n",
    "                            maxNumOfLinearSections=50,\n",
    "                            linearizationTolerance=1e-5)\n",
    "    np.random.seed(seed=246)\n",
    "#         print stats.norm.rvs()\n",
    "    perf, failure = monte_carlo_results(m, sol=rm_sol)\n",
    "    \n",
    "    perfs.append(perf)\n",
    "    failures.append(failure)\n",
    "plot(failures)"
   ]
  },
  {
   "cell_type": "code",
   "execution_count": 3,
   "metadata": {},
   "outputs": [
    {
     "name": "stdout",
     "output_type": "stream",
     "text": [
      "Populating the interactive namespace from numpy and matplotlib\n"
     ]
    },
    {
     "name": "stderr",
     "output_type": "stream",
     "text": [
      "/usr/local/lib/python2.7/dist-packages/IPython/core/magics/pylab.py:161: UserWarning: pylab import has clobbered these variables: ['gamma']\n",
      "`%matplotlib` prevents importing * from pylab and numpy\n",
      "  \"\\n`%matplotlib` prevents importing * from pylab and numpy\"\n"
     ]
    }
   ],
   "source": [
    "%pylab inline"
   ]
  },
  {
   "cell_type": "code",
   "execution_count": 32,
   "metadata": {},
   "outputs": [
    {
     "data": {
      "text/plain": [
       "[<matplotlib.lines.Line2D at 0x7f447c4931d0>]"
      ]
     },
     "execution_count": 32,
     "metadata": {},
     "output_type": "execute_result"
    },
    {
     "data": {
      "image/png": "[encoded data removed]",
      "text/plain": [
       "<matplotlib.figure.Figure at 0x7f446f81abd0>"
      ]
     },
     "metadata": {},
     "output_type": "display_data"
    }
   ],
   "source": [
    "p2 = perfs\n",
    "f2 = failures\n",
    "f = figure(figsize=(12, 6))\n",
    "plot(p1, f1, \"-x\")\n",
    "plot(p2, f2, \"-+\")"
   ]
  },
  {
   "cell_type": "code",
   "execution_count": 28,
   "metadata": {},
   "outputs": [
    {
     "data": {
      "text/plain": [
       "[<matplotlib.lines.Line2D at 0x7f4477e12a50>]"
      ]
     },
     "execution_count": 28,
     "metadata": {},
     "output_type": "execute_result"
    },
    {
     "data": {
      "image/png": "[encoded data removed]",
      "text/plain": [
       "<matplotlib.figure.Figure at 0x7f446fb884d0>"
      ]
     },
     "metadata": {},
     "output_type": "display_data"
    }
   ],
   "source": [
    "# perfs1 = perfs\n",
    "# fails1 = failures\n",
    "f = figure(figsize=(12, 6))\n",
    "plot(perfs1, fails1, \"-x\")\n",
    "plot(perfs2, fails2, \"-+\")"
   ]
  }
 ],
 "metadata": {
  "kernelspec": {
   "display_name": "Python 2",
   "language": "python",
   "name": "python2"
  },
  "language_info": {
   "codemirror_mode": {
    "name": "ipython",
    "version": 2
   },
   "file_extension": ".py",
   "mimetype": "text/x-python",
   "name": "python",
   "nbconvert_exporter": "python",
   "pygments_lexer": "ipython2",
   "version": "2.7.12"
  }
 },
 "nbformat": 4,
 "nbformat_minor": 2
}
