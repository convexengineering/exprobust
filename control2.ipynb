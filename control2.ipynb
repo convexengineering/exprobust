{
 "cells": [
  {
   "cell_type": "code",
   "execution_count": 1,
   "metadata": {
    "extensions": {
     "jupyter_dashboards": {
      "version": 1,
      "views": {
       "grid_default": {},
       "report_default": {}
      }
     }
    }
   },
   "outputs": [],
   "source": [
    "from IPython.display import display\n",
    "import ipywidgets as widgets\n",
    "from simpleac import SimPleAC\n",
    "from monte_carlo import monte_carlo_results\n",
    "#from datetime import datetime as dt\n",
    "import time\n",
    "import plotly.graph_objects as go\n",
    "\n",
    "button = widgets.Button(description=\"Run Simulation\")\n",
    "\n",
    "#--CONDITION SPECIFIC--START\n",
    "wing_length = widgets.FloatSlider(description = \"Wing Length [m]\", \n",
    "                                  value = 18, min = 10, max = 25, step=0.1)\n",
    "wing_area = widgets.FloatSlider(description = \"Wing Area [m^2]\", \n",
    "                                value = 29, min = 5, max = 100, step=0.1)\n",
    "fuel_volume_available = widgets.FloatSlider(description = \"Fuel Volume Available [m^3]\", \n",
    "                                            value = 0.7, min = 0.01, max = 5, step=0.001)\n",
    "lift_coefficient = widgets.FloatSlider(description = \"Lift Coefficient [-]\", \n",
    "                                       value = 0.4, min = 0.1, max = 0.7, step=0.001)\n",
    "levers = [wing_length, wing_area, fuel_volume_available, lift_coefficient]\n",
    "#--CONDITION SPECIFIC--END\n",
    "\n",
    "levers_text = []\n",
    "for lever in levers:\n",
    "    lever.style = {'description_width': '200px'}\n",
    "    lever.layout.width = '800px'\n",
    "    lever.continuous_update = True\n",
    "    lever.readout = False\n",
    "    lever_text = widgets.FloatText(\n",
    "        disabled=False,\n",
    "        continuous_update=True,\n",
    "        margin = '0 80px 50px 0'\n",
    "    )\n",
    "    widgets.link((lever, 'value'), (lever_text, 'value'))\n",
    "    levers_text.append(lever)\n",
    "    levers_text.append(lever_text)\n",
    "\n",
    "progress = widgets.FloatProgress(value=0.0,\n",
    "                                 min=0.0,\n",
    "                                 max=1.0, \n",
    "                                 description='Loading:',\n",
    "                                 bar_style='info',\n",
    "                                 orientation='horizontal')\n",
    "progress.layout.visibility = 'hidden'\n",
    "\n",
    "out = widgets.Output(layout={'width': '90%',\n",
    "                             'height': '150px',\n",
    "                             'border': '1px solid black'})\n",
    "ifeas = widgets.Output(layout={'width': '20%',\n",
    "                               'height': '90%',\n",
    "                               'border': '1px solid black'})\n",
    "with ifeas:\n",
    "    print(\"Infeasible Conditions\")\n",
    "\n",
    "fig = go.FigureWidget()\n",
    "# fig.add_shape(\n",
    "#         # filled Rectangle\n",
    "#         go.layout.Shape(\n",
    "#             type=\"rect\",\n",
    "#             x0=800,\n",
    "#             y0=0,\n",
    "#             x1=1600,\n",
    "#             y1=10,\n",
    "#             fillcolor=\"rgba(0,255,0,0.5)\",\n",
    "#         ))\n",
    "fig.add_scatter()\n",
    "fig.update_layout(\n",
    "    autosize=False,\n",
    "    width=800,\n",
    "    height=600,\n",
    "    yaxis=go.layout.YAxis(\n",
    "        title_text=\"Failure Rate\",\n",
    "        range=[0,100],\n",
    "        tickmode = 'array',\n",
    "        tickvals = [0, 10, 20, 30, 40, 50, 60, 70, 80, 90, 100],\n",
    "        ticktext = [\"0%\", \"10%\", \"20%\", \"30%\", \"40%\", \"50%\", \"60%\", \"70%\", \"80%\", \"90%\", \"100%\"]\n",
    "    ),\n",
    "    xaxis=go.layout.XAxis(\n",
    "        title_text=\"Fuel Consumed [lbs]\",\n",
    "        range=[800,1600]\n",
    "    )\n",
    ")\n",
    "fig.data[0].mode = 'lines+markers';\n",
    "diagram = go.FigureWidget();\n",
    "diagram.add_scatter();\n",
    "diagram.update_layout(\n",
    "    paper_bgcolor='rgba(0,0,0,0)',\n",
    "    plot_bgcolor='rgba(0,0,0,0)',\n",
    "    autosize=False,\n",
    "    width=800,\n",
    "    height=800,\n",
    "    yaxis=go.layout.YAxis(\n",
    "        showgrid=False,\n",
    "        showticklabels=False,\n",
    "        range=[-12,8]\n",
    "    ),\n",
    "    xaxis=go.layout.XAxis(\n",
    "        showgrid=False,\n",
    "        showticklabels=False,\n",
    "        range=[-10,10]\n",
    "    )\n",
    ");\n",
    "diagram.data[0].mode = 'lines';\n",
    "\n",
    "item_layout = widgets.Layout(justify_content='space-around',\n",
    "                             justify_items='center',\n",
    "                             align_content='space-evenly',\n",
    "                             align_items='center')\n"
   ]
  },
  {
   "cell_type": "code",
   "execution_count": 2,
   "metadata": {},
   "outputs": [],
   "source": [
    "def draw_diagram(wing_length=16, wing_area=23, fuel_volume_available=0.6):\n",
    "    tail_width = 2\n",
    "    alpha_fuel = 1.3\n",
    "    alpha_wing = .5\n",
    "    x = [\n",
    "        (alpha_fuel*fuel_volume_available+tail_width), #0\n",
    "        (alpha_fuel*fuel_volume_available+tail_width), #1\n",
    "        (alpha_fuel*fuel_volume_available), #2\n",
    "        (alpha_fuel*fuel_volume_available), #3\n",
    "        (alpha_wing*wing_length), #4\n",
    "        (alpha_wing*wing_length), #5\n",
    "        (alpha_fuel*fuel_volume_available), #6\n",
    "        (alpha_fuel*fuel_volume_available), #7\n",
    "        0, #8\n",
    "    ]\n",
    "    \n",
    "    x = x + [-1*i for i in x[7::-1]] + [(alpha_fuel*fuel_volume_available+tail_width)]\n",
    "    wing_place = .7\n",
    "    wing_taper = .6\n",
    "    alpha_length = 1\n",
    "    alpha_area = 2\n",
    "    tail_length = 1\n",
    "    tail_taper = .5\n",
    "    nose_length = .2\n",
    "    y = [\n",
    "        -(wing_place*alpha_length*wing_length), #0\n",
    "        -(wing_place*alpha_length*wing_length-tail_length), #1\n",
    "        -(wing_place*alpha_length*wing_length-tail_length-tail_taper), #2\n",
    "        -((1-wing_taper)*alpha_area*wing_area/wing_length), #3\n",
    "        -((1-wing_taper)*alpha_area*wing_area/wing_length), #4\n",
    "        0, #5\n",
    "        (wing_taper*alpha_area*wing_area/wing_length), #6\n",
    "        ((1-wing_place)*alpha_length*wing_length-nose_length), #7\n",
    "        ((1-wing_place)*alpha_length*wing_length), #8\n",
    "    ]\n",
    "    y = y + y[7::-1] + [-(wing_place*alpha_length*wing_length)]\n",
    "    return x, y\n",
    "\n",
    "diagram.data[0].x, diagram.data[0].y = draw_diagram()"
   ]
  },
  {
   "cell_type": "code",
   "execution_count": 3,
   "metadata": {
    "deletable": false,
    "extensions": {
     "jupyter_dashboards": {
      "version": 1,
      "views": {
       "grid_default": {},
       "report_default": {}
      }
     }
    }
   },
   "outputs": [],
   "source": [
    "x = []\n",
    "y = []\n",
    "conds = []\n",
    "iconds = []\n",
    "times = []\n",
    "start_time = time.time()#dt.now()\n",
    "\n",
    "def on_button_clicked(b):\n",
    "    m = SimPleAC()\n",
    "    #--CONDITION SPECIFIC--START\n",
    "    m.substitutions.update({\n",
    "      \"S\": wing_area.value,\n",
    "      \"A\": wing_length.value**2/float(wing_area.value),\n",
    "      \"V_{f_{avail}}\": fuel_volume_available.value,\n",
    "      \"C_L\": lift_coefficient.value\n",
    "    })\n",
    "    #--CONDITION SPECIFIC--END\n",
    "    cond = str([lever.value for lever in levers])\n",
    "    out.clear_output()\n",
    "    if cond in iconds:\n",
    "        with out:\n",
    "            print(cond + \" already tested\")\n",
    "            print(\"Infeasible conditions\")\n",
    "    elif cond in conds:\n",
    "        with out:\n",
    "            print(cond + \" already tested\")\n",
    "            i = conds.index(cond)\n",
    "            print(\"Fuel consumption: %i lbs\" % x[i])\n",
    "            print(\"    Failure rate: % 2.1f%% \" % y[i])\n",
    "    else:\n",
    "        with out:\n",
    "            print(cond)\n",
    "        try:\n",
    "            sol = m.localsolve(verbosity = 0)\n",
    "            sol_wing_area = sol(\"S\").magnitude\n",
    "            sol_wing_length = sol(\"A\").magnitude\n",
    "            sol_fuel = sol(\"V_f_fuse\").magnitude\n",
    "            diagram.data[0].x, diagram.data[0].y = draw_diagram(sol_wing_length, \n",
    "                                                                sol_wing_area, \n",
    "                                                                sol_fuel)\n",
    "        except Exception:\n",
    "            with out:\n",
    "                print(\"Infeasible Conditions\")\n",
    "            with ifeas:\n",
    "                print(cond)\n",
    "            iconds.append(cond)\n",
    "        progress.value = 0\n",
    "        progress.layout.visibility = None\n",
    "        performance, failure = monte_carlo_results(m, progress, out)\n",
    "        if performance:\n",
    "            x.append(performance)\n",
    "            y.append(failure)\n",
    "            conds.append(cond)\n",
    "            times.append(time.time()-start_time)\n",
    "            fig.data[0].x = x\n",
    "            fig.data[0].y = y\n",
    "            fig.data[0].hovertext = conds\n",
    "            import numpy as np\n",
    "            fig.data[0].marker=dict(\n",
    "                size=[7]*(len(times) - 2) + [12, 18][:len(times)],\n",
    "                showscale=False,\n",
    "                color=[\"#aa44ff\"]*(len(times) - 2) + [\"#dd44cc\", \"#ff44aa\"][:len(times)],\n",
    "            )\n",
    "            fig.data[0].line={\n",
    "                \"color\":'rgba(170, 68, 255, 0.2)'\n",
    "            }\n",
    "    progress.layout.visibility = 'hidden'\n",
    "\n",
    "button.on_click(on_button_clicked)"
   ]
  },
  {
   "cell_type": "code",
   "execution_count": 4,
   "metadata": {
    "extensions": {
     "jupyter_dashboards": {
      "version": 1,
      "views": {
       "grid_default": {},
       "report_default": {}
      }
     }
    }
   },
   "outputs": [],
   "source": [
    "controls = widgets.VBox(levers_text + [button, fig, progress, out])"
   ]
  },
  {
   "cell_type": "code",
   "execution_count": 5,
   "metadata": {},
   "outputs": [
    {
     "data": {
      "application/vnd.jupyter.widget-view+json": {
       "model_id": "9a0aef65d74f4829bf6909db31fcf968",
       "version_major": 2,
       "version_minor": 0
      },
      "text/plain": [
       "HBox(children=(VBox(children=(FloatSlider(value=16.0, description='Wing Length (m)', layout=Layout(width='800p…"
      ]
     },
     "metadata": {},
     "output_type": "display_data"
    }
   ],
   "source": [
    "widgets.HBox([controls, diagram, ifeas], layout=item_layout)"
   ]
  },
  {
   "cell_type": "code",
   "execution_count": null,
   "metadata": {},
   "outputs": [],
   "source": []
  }
 ],
 "metadata": {
  "celltoolbar": "Edit Metadata",
  "extensions": {
   "jupyter_dashboards": {
    "activeView": "grid_default",
    "version": 1,
    "views": {
     "grid_default": {
      "cellMargin": 10,
      "defaultCellHeight": 20,
      "maxColumns": 12,
      "name": "grid",
      "type": "grid"
     },
     "report_default": {
      "name": "report",
      "type": "report"
     }
    }
   }
  },
  "kernelspec": {
   "display_name": "Python 3",
   "language": "python",
   "name": "python3"
  },
  "language_info": {
   "codemirror_mode": {
    "name": "ipython",
    "version": 3
   },
   "file_extension": ".py",
   "mimetype": "text/x-python",
   "name": "python",
   "nbconvert_exporter": "python",
   "pygments_lexer": "ipython3",
   "version": "3.7.4"
  }
 },
 "nbformat": 4,
 "nbformat_minor": 2
}
