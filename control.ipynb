{
 "cells": [
  {
   "cell_type": "code",
   "execution_count": 4,
   "metadata": {},
   "outputs": [],
   "source": [
    "from IPython.display import display\n",
    "import ipywidgets as widgets\n",
    "from simpleac import SimPleAC\n",
    "from monte_carlo import print_monte_carlo_results\n",
    "\n",
    "button = widgets.Button(description=\"Run Simulation\")\n",
    "output = widgets.Output()\n",
    "style = {'description_width': 'initial', 'slider_width': 'initial'}\n",
    "wing_length = widgets.FloatSlider(description = \"Wing Length (meters)\",\n",
    "                                  value = 16,\n",
    "                                  style = style)\n",
    "wing_area = widgets.FloatSlider(description = \"Wing Area (square meters)\",\n",
    "                                value = 23,\n",
    "                                style = style)\n",
    "fuel_volume_available = widgets.FloatSlider(description = \"Fuel Volume Available (cubic meters)\",\n",
    "                                            value = 0.6,\n",
    "                                            style = style)\n",
    "flight_speed = widgets.FloatSlider(description = \"Flight Speed (meters per second)\",\n",
    "                                   value = 50,\n",
    "                                   style = style)"
   ]
  },
  {
   "cell_type": "code",
   "execution_count": 2,
   "metadata": {
    "deletable": false,
    "editable": false
   },
   "outputs": [],
   "source": [
    "def on_button_clicked(b):\n",
    "    print(wing_length.value, wing_area.value,fuel_volume_available.value)\n",
    "    m = SimPleAC()\n",
    "    m.substitutions.update({\n",
    "      \"S\": wing_area.value,\n",
    "      \"A\": wing_length.value**2/float(wing_area.value),\n",
    "      \"V_{f_{avail}}\": fuel_volume_available.value,\n",
    "      \"V\": flight_speed.value\n",
    "    })\n",
    "    print_monte_carlo_results(m)"
   ]
  },
  {
   "cell_type": "code",
   "execution_count": 6,
   "metadata": {},
   "outputs": [
    {
     "data": {
      "application/vnd.jupyter.widget-view+json": {
       "model_id": "1c59ac732c814934825ec7c141c8cd33",
       "version_major": 2,
       "version_minor": 0
      },
      "text/plain": [
       "FloatSlider(value=16.0, description='Wing Length (meters)', style=SliderStyle(description_width='initial'))"
      ]
     },
     "metadata": {},
     "output_type": "display_data"
    },
    {
     "data": {
      "application/vnd.jupyter.widget-view+json": {
       "model_id": "679269f4a34843d290bab62981de53b1",
       "version_major": 2,
       "version_minor": 0
      },
      "text/plain": [
       "FloatSlider(value=23.0, description='Wing Area (square meters)', style=SliderStyle(description_width='initial'…"
      ]
     },
     "metadata": {},
     "output_type": "display_data"
    },
    {
     "data": {
      "application/vnd.jupyter.widget-view+json": {
       "model_id": "05db0788c35f41f0ab55a3fa56cdf37c",
       "version_major": 2,
       "version_minor": 0
      },
      "text/plain": [
       "FloatSlider(value=0.6, description='Fuel Volume Available (cubic meters)', style=SliderStyle(description_width…"
      ]
     },
     "metadata": {},
     "output_type": "display_data"
    },
    {
     "data": {
      "application/vnd.jupyter.widget-view+json": {
       "model_id": "52d804096ba9435a823104cf91ff373b",
       "version_major": 2,
       "version_minor": 0
      },
      "text/plain": [
       "FloatSlider(value=50.0, description='Flight Speed (meters per second)', style=SliderStyle(description_width='i…"
      ]
     },
     "metadata": {},
     "output_type": "display_data"
    },
    {
     "data": {
      "application/vnd.jupyter.widget-view+json": {
       "model_id": "0b820fb1a3b74112ad83fd9fccf5d453",
       "version_major": 2,
       "version_minor": 0
      },
      "text/plain": [
       "Button(description='Run Simulation', style=ButtonStyle())"
      ]
     },
     "metadata": {},
     "output_type": "display_data"
    },
    {
     "data": {
      "application/vnd.jupyter.widget-view+json": {
       "model_id": "ee81b64dd71d4b07b357ac55a7fe0fa9",
       "version_major": 2,
       "version_minor": 0
      },
      "text/plain": [
       "Output()"
      ]
     },
     "metadata": {},
     "output_type": "display_data"
    }
   ],
   "source": [
    "button.on_click(on_button_clicked)\n",
    "display(wing_length)\n",
    "display(wing_area)\n",
    "display(fuel_volume_available)\n",
    "display(flight_speed)\n",
    "display(button, output)"
   ]
  },
  {
   "cell_type": "code",
   "execution_count": null,
   "metadata": {},
   "outputs": [],
   "source": []
  },
  {
   "cell_type": "code",
   "execution_count": null,
   "metadata": {},
   "outputs": [],
   "source": []
  }
 ],
 "metadata": {
  "celltoolbar": "Edit Metadata",
  "kernelspec": {
   "display_name": "Python 3",
   "language": "python",
   "name": "python3"
  },
  "language_info": {
   "codemirror_mode": {
    "name": "ipython",
    "version": 3
   },
   "file_extension": ".py",
   "mimetype": "text/x-python",
   "name": "python",
   "nbconvert_exporter": "python",
   "pygments_lexer": "ipython3",
   "version": "3.7.4"
  }
 },
 "nbformat": 4,
 "nbformat_minor": 2
}
