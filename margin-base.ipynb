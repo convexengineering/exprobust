{
 "cells": [
  {
   "cell_type": "code",
   "execution_count": 1,
   "metadata": {
    "extensions": {
     "jupyter_dashboards": {
      "version": 1,
      "views": {
       "grid_default": {},
       "report_default": {}
      }
     }
    }
   },
   "outputs": [
    {
     "data": {
      "application/vnd.jupyter.widget-view+json": {
       "model_id": "9cd2e36d9d724d46ae7ad7c42d9e38a4",
       "version_major": 2,
       "version_minor": 0
      },
      "text/plain": [
       "HBox(children=(VBox(children=(FloatSlider(value=1.125, description='Wing Weight Margin', layout=Layout(width='…"
      ]
     },
     "metadata": {},
     "output_type": "display_data"
    }
   ],
   "source": [
    "from base import setup\n",
    "from simpleac import SimPleAC\n",
    "import ipywidgets as widgets\n",
    "\n",
    "\n",
    "wing_weight_margin = widgets.FloatSlider(description = \"Wing Weight Margin\",\n",
    "                                  value = 1, min = 0.5, max = 3, step=0.001)\n",
    "tsfc_margin = widgets.FloatSlider(description = \"TSFC Margin\", #Thrust-Specific Fuel Consumption\n",
    "                                value = 1.1, min = 0.5, max = 3, step=0.001)\n",
    "takeoff_speed_margin = widgets.FloatSlider(description = \"Takeoff Speed Margin\",\n",
    "                                            value = 1, min = 0.5, max = 3, step=0.001)\n",
    "range_margin = widgets.FloatSlider(description = \"Range Margin\",\n",
    "                                   value = 1.1, min = 0.5, max = 3, step=0.001)\n",
    "levers = [wing_weight_margin, tsfc_margin, takeoff_speed_margin, range_margin]\n",
    "\n",
    "def subs(levers):\n",
    "    wing_weight_margin, tsfc_margin, takeoff_speed_margin, range_margin = levers\n",
    "    return {\n",
    "        \"m_ww\": wing_weight_margin.value,\n",
    "        \"m_tsfc\": tsfc_margin.value,\n",
    "        \"m_vmin\": takeoff_speed_margin.value,\n",
    "        \"m_range\": range_margin.value\n",
    "    }\n",
    "\n",
    "display(setup(levers, subs, SimPleAC))"
   ]
  },
  {
   "cell_type": "code",
   "execution_count": null,
   "metadata": {
    "deletable": false,
    "extensions": {
     "jupyter_dashboards": {
      "version": 1,
      "views": {
       "grid_default": {},
       "report_default": {}
      }
     }
    }
   },
   "outputs": [],
   "source": []
  },
  {
   "cell_type": "code",
   "execution_count": null,
   "metadata": {},
   "outputs": [],
   "source": []
  },
  {
   "cell_type": "code",
   "execution_count": null,
   "metadata": {},
   "outputs": [],
   "source": []
  }
 ],
 "metadata": {
  "celltoolbar": "Edit Metadata",
  "extensions": {
   "jupyter_dashboards": {
    "activeView": "grid_default",
    "version": 1,
    "views": {
     "grid_default": {
      "cellMargin": 10,
      "defaultCellHeight": 20,
      "maxColumns": 12,
      "name": "grid",
      "type": "grid"
     },
     "report_default": {
      "name": "report",
      "type": "report"
     }
    }
   }
  },
  "kernelspec": {
   "display_name": "Python 3",
   "language": "python",
   "name": "python3"
  },
  "language_info": {
   "codemirror_mode": {
    "name": "ipython",
    "version": 3
   },
   "file_extension": ".py",
   "mimetype": "text/x-python",
   "name": "python",
   "nbconvert_exporter": "python",
   "pygments_lexer": "ipython3",
   "version": "3.7.5"
  }
 },
 "nbformat": 4,
 "nbformat_minor": 2
}
