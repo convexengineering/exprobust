{
 "cells": [
  {
   "cell_type": "code",
   "execution_count": 1,
   "metadata": {
    "extensions": {
     "jupyter_dashboards": {
      "version": 1,
      "views": {
       "grid_default": {},
       "report_default": {}
      }
     }
    }
   },
   "outputs": [
    {
     "ename": "NameError",
     "evalue": "name 'performance' is not defined",
     "output_type": "error",
     "traceback": [
      "\u001b[0;31m---------------------------------------------------------------------------\u001b[0m",
      "\u001b[0;31mNameError\u001b[0m                                 Traceback (most recent call last)",
      "\u001b[0;32m<ipython-input-1-b88ddf78d1a0>\u001b[0m in \u001b[0;36m<module>\u001b[0;34m\u001b[0m\n\u001b[1;32m     16\u001b[0m                                   value = 20, min = 0, max=30, step = .01)\n\u001b[1;32m     17\u001b[0m \u001b[0;34m\u001b[0m\u001b[0m\n\u001b[0;32m---> 18\u001b[0;31m \u001b[0mlevers\u001b[0m \u001b[0;34m=\u001b[0m \u001b[0;34m[\u001b[0m\u001b[0mperformance\u001b[0m\u001b[0;34m,\u001b[0m \u001b[0mwing_weight_pr\u001b[0m\u001b[0;34m,\u001b[0m \u001b[0mtsfc_pr\u001b[0m\u001b[0;34m,\u001b[0m \u001b[0mv_min_pr\u001b[0m\u001b[0;34m,\u001b[0m \u001b[0mrange_pr\u001b[0m\u001b[0;34m]\u001b[0m\u001b[0;34m\u001b[0m\u001b[0;34m\u001b[0m\u001b[0m\n\u001b[0m\u001b[1;32m     19\u001b[0m \u001b[0;34m\u001b[0m\u001b[0m\n\u001b[1;32m     20\u001b[0m \u001b[0;32mfrom\u001b[0m \u001b[0msimpleac\u001b[0m \u001b[0;32mimport\u001b[0m \u001b[0mSimPleAC\u001b[0m\u001b[0;34m\u001b[0m\u001b[0;34m\u001b[0m\u001b[0m\n",
      "\u001b[0;31mNameError\u001b[0m: name 'performance' is not defined"
     ]
    }
   ],
   "source": [
    "from base import setup\n",
    "from simpleac import SimPleAC\n",
    "import ipywidgets as widgets\n",
    "\n",
    "\n",
    "\n",
    "std = widgets.FloatSlider(description = \"Gamma [-]\",\n",
    "                                  value = 1, min = 0, max=3, step = .01)\n",
    "wing_weight_pr = widgets.FloatSlider(description = \"Wing Weight Percentage\",\n",
    "                                  value = 5, min = 0, max=30, step = .01)\n",
    "tsfc_pr = widgets.FloatSlider(description = \"TSFC Percentage\",\n",
    "                                  value = 15, min = 0, max=30, step = .01)\n",
    "v_min_pr = widgets.FloatSlider(description = \"Takeoff Speed Percentage\",\n",
    "                                  value = 5, min = 0, max=30, step = .01)\n",
    "range_pr = widgets.FloatSlider(description = \"Range Speed Percentage\",\n",
    "                                  value = 15, min = 0, max=30, step = .01)\n",
    "\n",
    "levers = [std, wing_weight_pr, tsfc_pr, v_min_pr, range_pr]\n",
    "\n",
    "from simpleac import SimPleAC\n",
    "from robust.robust import RobustModel\n",
    "from gpkit import Variable, units\n",
    "\n",
    "def constructor():\n",
    "    m = SimPleAC(wing_weight_pr.value, tsfc_pr.value, v_min_pr.value, range_pr.value)\n",
    "    nominal_sol = m.localsolve(verbosity=0)\n",
    "\n",
    "    rm = RobustModel(m, \"box\", gamma=std.value/3.0,\n",
    "                     twoTerm=False, boyd=False, simpleModel=True,\n",
    "                     nominalsolve=nominal_sol)\n",
    "    return rm\n",
    "    \n",
    "\n",
    "display(setup(levers, lambda _: {}, constructor))"
   ]
  },
  {
   "cell_type": "code",
   "execution_count": null,
   "metadata": {
    "deletable": false,
    "extensions": {
     "jupyter_dashboards": {
      "version": 1,
      "views": {
       "grid_default": {},
       "report_default": {}
      }
     }
    }
   },
   "outputs": [],
   "source": []
  },
  {
   "cell_type": "code",
   "execution_count": null,
   "metadata": {},
   "outputs": [],
   "source": []
  },
  {
   "cell_type": "code",
   "execution_count": null,
   "metadata": {},
   "outputs": [],
   "source": []
  }
 ],
 "metadata": {
  "celltoolbar": "Edit Metadata",
  "extensions": {
   "jupyter_dashboards": {
    "activeView": "grid_default",
    "version": 1,
    "views": {
     "grid_default": {
      "cellMargin": 10,
      "defaultCellHeight": 20,
      "maxColumns": 12,
      "name": "grid",
      "type": "grid"
     },
     "report_default": {
      "name": "report",
      "type": "report"
     }
    }
   }
  },
  "kernelspec": {
   "display_name": "Python 3",
   "language": "python",
   "name": "python3"
  },
  "language_info": {
   "codemirror_mode": {
    "name": "ipython",
    "version": 3
   },
   "file_extension": ".py",
   "mimetype": "text/x-python",
   "name": "python",
   "nbconvert_exporter": "python",
   "pygments_lexer": "ipython3",
   "version": "3.7.5"
  }
 },
 "nbformat": 4,
 "nbformat_minor": 2
}
