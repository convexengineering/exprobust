{
 "cells": [
  {
   "cell_type": "code",
   "execution_count": null,
   "metadata": {
    "extensions": {
     "jupyter_dashboards": {
      "version": 1,
      "views": {
       "grid_default": {},
       "report_default": {}
      }
     }
    }
   },
   "outputs": [],
   "source": [
    "from base import setup, ROBUST_PERFORMANCE\n",
    "from simpleac import SimPleAC\n",
    "import ipywidgets as widgets\n",
    "\n",
    "\n",
    "std = widgets.FloatSlider(description = \"Gamma [-]\",\n",
    "                                  value = 1, min = 0, max=3, step = .01)\n",
    "wing_weight_pr = widgets.FloatSlider(description = \"Wing Weight Percentage\",\n",
    "                                  value = 5, min = 0, max=30, step = .01)\n",
    "tsfc_pr = widgets.FloatSlider(description = \"TSFC Percentage\",\n",
    "                                  value = 15, min = 0, max=30, step = .01)\n",
    "v_min_pr = widgets.FloatSlider(description = \"Takeoff Speed Percentage\",\n",
    "                                  value = 5, min = 0, max=30, step = .01)\n",
    "range_pr = widgets.FloatSlider(description = \"Range Speed Percentage\",\n",
    "                                  value = 15, min = 0, max=30, step = .01)\n",
    "\n",
    "levers = [std, wing_weight_pr, tsfc_pr, v_min_pr, range_pr]\n",
    "\n",
    "from simpleac import SimPleAC\n",
    "from robust.robust import RobustModel\n",
    "from gpkit import Variable, units\n",
    "\n",
    "def constructor():\n",
    "    m = SimPleAC(wing_weight_pr.value, tsfc_pr.value, v_min_pr.value, range_pr.value)\n",
    "    nominal_sol = m.localsolve(verbosity=0)\n",
    "\n",
    "    rm = RobustModel(m, \"box\", gamma=std.value/3.0,\n",
    "                     twoTerm=False, boyd=False, simpleModel=True,\n",
    "                     nominalsolve=nominal_sol)\n",
    "    return rm\n",
    "    \n",
    "\n",
    "display(setup(levers, lambda _: {}, constructor, ROBUST_PERFORMANCE))"
   ]
  }
 ],
 "metadata": {
  "celltoolbar": "Edit Metadata",
  "extensions": {
   "jupyter_dashboards": {
    "activeView": "grid_default",
    "version": 1,
    "views": {
     "grid_default": {
      "cellMargin": 10,
      "defaultCellHeight": 20,
      "maxColumns": 12,
      "name": "grid",
      "type": "grid"
     },
     "report_default": {
      "name": "report",
      "type": "report"
     }
    }
   }
  },
  "kernelspec": {
   "display_name": "Python 3",
   "language": "python",
   "name": "python3"
  },
  "language_info": {
   "codemirror_mode": {
    "name": "ipython",
    "version": 3
   },
   "file_extension": ".py",
   "mimetype": "text/x-python",
   "name": "python",
   "nbconvert_exporter": "python",
   "pygments_lexer": "ipython3",
   "version": "3.7.5"
  }
 },
 "nbformat": 4,
 "nbformat_minor": 2
}
