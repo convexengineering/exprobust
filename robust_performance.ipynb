{
 "cells": [
  {
   "cell_type": "code",
   "execution_count": null,
   "metadata": {},
   "outputs": [],
   "source": [
    "from IPython.display import display\n",
    "import ipywidgets as widgets\n",
    "from simpleac import SimPleAC\n",
    "from monte_carlo import monte_carlo_results\n",
    "from datetime import datetime as dt\n",
    "import plotly.graph_objects as go\n",
    "\n",
    "button = widgets.Button(description=\"Run Simulation\")\n",
    "\n",
    "#--CONDITION SPECIFIC--START\n",
    "wing_weight_margin = widgets.FloatSlider(description = \"Wing Weight Margin\",\n",
    "                                  value = 1.125)\n",
    "tsfc_margin = widgets.FloatSlider(description = \"TSFC Margin\", #Thrust-Specific Fuel Consumption\n",
    "                                value = 1)\n",
    "takeoff_speed_margin = widgets.FloatSlider(description = \"Takeoff Speed Margin\",\n",
    "                                            value = 1)\n",
    "range_margin = widgets.FloatSlider(description = \"Range Margin\",\n",
    "                                   value = 1)\n",
    "levers = [wing_weight_margin, tsfc_margin, takeoff_speed_margin, range_margin]\n",
    "#--CONDITION SPECIFIC--END\n",
    "\n",
    "for lever in levers:\n",
    "    lever.style = {'description_width': '200px'}\n",
    "    lever.layout.width = '800px'\n",
    "    lever.continuous_update = True\n",
    "\n",
    "progress = widgets.FloatProgress(value=0.0,\n",
    "                                 min=0.0,\n",
    "                                 max=1.0, \n",
    "                                 description='Loading:',\n",
    "                                 bar_style='info',\n",
    "                                 orientation='horizontal')\n",
    "progress.layout.visibility = 'hidden'\n",
    "\n",
    "out = widgets.Output(layout={'border': '1px solid black'})\n",
    "\n",
    "fig = go.FigureWidget()\n",
    "fig.add_scatter();"
   ]
  },
  {
   "cell_type": "code",
   "execution_count": null,
   "metadata": {
    "deletable": false
   },
   "outputs": [],
   "source": [
    "x = []\n",
    "y = []\n",
    "conds = []\n",
    "times = []\n",
    "start_time = dt.now()\n",
    "\n",
    "def on_button_clicked(b):\n",
    "    m = SimPleAC()\n",
    "    #--CONDITION SPECIFIC--START\n",
    "    m.substitutions.update({\n",
    "        \"m_ww\": wing_weight_margin.value,\n",
    "        \"m_tsfc\": tsfc_margin.value,\n",
    "        \"m_vmin\": takeoff_speed_margin.value,\n",
    "        \"m_range\": range_margin.value\n",
    "    })\n",
    "    #--CONDITION SPECIFIC--END\n",
    "    progress.value = 0\n",
    "    progress.layout.visibility = None\n",
    "    out.clear_output()\n",
    "    with out:\n",
    "        print(\"Conditions: \" + str([lever.value for lever in levers]))\n",
    "    performance, failure = monte_carlo_results(m, progress, out)\n",
    "    if performance:\n",
    "        x.append(performance)\n",
    "        y.append(failure)\n",
    "        conds.append(\"Conditions: \" + str([lever.value for lever in levers]))\n",
    "        fig.data[0].x = x\n",
    "        fig.data[0].y = y\n",
    "        fig.data[0].hovertext = conds\n",
    "        times.append(dt.now())\n",
    "    progress.layout.visibility = 'hidden'\n",
    "\n",
    "button.on_click(on_button_clicked)"
   ]
  },
  {
   "cell_type": "code",
   "execution_count": null,
   "metadata": {},
   "outputs": [],
   "source": [
    "widgets.VBox(levers+[button, fig, progress, out])"
   ]
  },
  {
   "cell_type": "code",
   "execution_count": null,
   "metadata": {},
   "outputs": [],
   "source": []
  }
 ],
 "metadata": {
  "celltoolbar": "Edit Metadata",
  "kernelspec": {
   "display_name": "Python 3",
   "language": "python",
   "name": "python3"
  },
  "language_info": {
   "codemirror_mode": {
    "name": "ipython",
    "version": 3
   },
   "file_extension": ".py",
   "mimetype": "text/x-python",
   "name": "python",
   "nbconvert_exporter": "python",
   "pygments_lexer": "ipython3",
   "version": "3.7.4"
  }
 },
 "nbformat": 4,
 "nbformat_minor": 2
}
