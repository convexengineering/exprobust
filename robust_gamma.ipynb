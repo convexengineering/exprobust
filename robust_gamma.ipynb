{
 "cells": [
  {
   "cell_type": "code",
   "execution_count": null,
   "metadata": {
    "extensions": {
     "jupyter_dashboards": {
      "version": 1,
      "views": {
       "grid_default": {},
       "report_default": {}
      }
     }
    }
   },
   "outputs": [],
   "source": [
    "from base import setup, ROBUST_GAMMA\n",
    "from simpleac import SimPleAC\n",
    "import ipywidgets as widgets\n",
    "\n",
    "\n",
    "performance = widgets.FloatSlider(description = \"Performance [lbs]\",\n",
    "                                  value = 1300, min = 1, max=2000, step = .1)\n",
    "wing_weight_pr = widgets.FloatSlider(description = \"Wing Weight Percentage\",\n",
    "                                  value = 5, min = 0, max=30, step = .01)\n",
    "tsfc_pr = widgets.FloatSlider(description = \"TSFC Percentage\",\n",
    "                                  value = 15, min = 0, max=30, step = .01)\n",
    "v_min_pr = widgets.FloatSlider(description = \"Takeoff Speed Percentage\",\n",
    "                                  value = 5, min = 0, max=30, step = .01)\n",
    "range_pr = widgets.FloatSlider(description = \"Range Speed Percentage\",\n",
    "                                  value = 15, min = 0, max=30, step = .01)\n",
    "\n",
    "levers = [performance, wing_weight_pr, tsfc_pr, v_min_pr, range_pr]\n",
    "\n",
    "from simpleac import SimPleAC\n",
    "from robust.robust import RobustModel\n",
    "from gpkit import Variable, units\n",
    "\n",
    "def constructor():\n",
    "    gamma = Variable('Gamma', '-', 'Uncertainty bound')\n",
    "    m = SimPleAC(wing_weight_pr.value, tsfc_pr.value, v_min_pr.value, range_pr.value)\n",
    "    nominal_sol = m.localsolve(verbosity=0)\n",
    "\n",
    "    m.append(m[\"W_f\"] <= performance.value*units.lbf)\n",
    "    m.append(gamma <= 1e30)\n",
    "    m.cost = 1/gamma\n",
    "\n",
    "    rm = RobustModel(m, \"box\", gamma=gamma,\n",
    "                     twoTerm=False, boyd=False, simpleModel=True,\n",
    "                     nominalsolve=nominal_sol)\n",
    "    return rm\n",
    "    \n",
    "\n",
    "display(setup(levers, lambda _: {}, constructor, ROBUST_GAMMA))"
   ]
  }
 ],
 "metadata": {
  "celltoolbar": "Edit Metadata",
  "extensions": {
   "jupyter_dashboards": {
    "activeView": "grid_default",
    "version": 1,
    "views": {
     "grid_default": {
      "cellMargin": 10,
      "defaultCellHeight": 20,
      "maxColumns": 12,
      "name": "grid",
      "type": "grid"
     },
     "report_default": {
      "name": "report",
      "type": "report"
     }
    }
   }
  },
  "kernelspec": {
   "display_name": "Python 3",
   "language": "python",
   "name": "python3"
  },
  "language_info": {
   "codemirror_mode": {
    "name": "ipython",
    "version": 3
   },
   "file_extension": ".py",
   "mimetype": "text/x-python",
   "name": "python",
   "nbconvert_exporter": "python",
   "pygments_lexer": "ipython3",
   "version": "3.7.5"
  }
 },
 "nbformat": 4,
 "nbformat_minor": 2
}
