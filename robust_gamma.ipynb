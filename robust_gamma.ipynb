{
 "cells": [
  {
   "cell_type": "code",
   "execution_count": 1,
   "metadata": {},
   "outputs": [],
   "source": [
    "from IPython.display import display\n",
    "import ipywidgets as widgets\n",
    "from simpleac import SimPleAC\n",
    "from monte_carlo import print_monte_carlo_results\n",
    "\n",
    "button = widgets.Button(description=\"Run Simulation\")\n",
    "output = widgets.Output()\n",
    "style = {'description_width': 'initial', 'slider_width': 'initial'}\n",
    "wing_weight_margin = widgets.FloatSlider(description = \"Wing Weight Margin\",\n",
    "                                  value = 1.125,\n",
    "                                  style = style)\n",
    "tsfc_margin = widgets.FloatSlider(description = \"TSFC Margin\", \n",
    "                                value = 1,\n",
    "                                style = style)\n",
    "takeoff_speed_margin = widgets.FloatSlider(description = \"Takeoff Speed Margin\",\n",
    "                                            value = 1,\n",
    "                                            style = style)\n",
    "range_margin = widgets.FloatSlider(description = \"Range Margin\",\n",
    "                                   value = 1,\n",
    "                                   style = style)"
   ]
  },
  {
   "cell_type": "code",
   "execution_count": null,
   "metadata": {
    "deletable": false
   },
   "outputs": [],
   "source": [
    "def on_button_clicked(b):\n",
    "    m = SimPleAC()\n",
    "    m.substitutions.update({\n",
    "        \"W_W_coeff1\": wing_weight_margin.value,\n",
    "        \"W_W_coeff2\": tsfc_margin.value,\n",
    "        \"m_vmin\": takeoff_speed_margin.value,\n",
    "        \"m_range\": range_margin.value\n",
    "    })\n",
    "    print_monte_carlo_results(m)"
   ]
  },
  {
   "cell_type": "code",
   "execution_count": null,
   "metadata": {},
   "outputs": [],
   "source": [
    "button.on_click(on_button_clicked)\n",
    "display(wing_weight_margin)\n",
    "display(tsfc_margin)\n",
    "display(takeoff_speed_margin)\n",
    "display(range_margin)\n",
    "display(button, output)"
   ]
  },
  {
   "cell_type": "code",
   "execution_count": null,
   "metadata": {},
   "outputs": [],
   "source": []
  }
 ],
 "metadata": {
  "celltoolbar": "Edit Metadata",
  "kernelspec": {
   "display_name": "Python 3",
   "language": "python",
   "name": "python3"
  },
  "language_info": {
   "codemirror_mode": {
    "name": "ipython",
    "version": 3
   },
   "file_extension": ".py",
   "mimetype": "text/x-python",
   "name": "python",
   "nbconvert_exporter": "python",
   "pygments_lexer": "ipython3",
   "version": "3.7.4"
  }
 },
 "nbformat": 4,
 "nbformat_minor": 2
}
