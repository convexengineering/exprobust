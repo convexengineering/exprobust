{
 "cells": [
  {
   "cell_type": "code",
   "execution_count": 1,
   "metadata": {},
   "outputs": [],
   "source": [
    "from IPython.display import display\n",
    "import ipywidgets as widgets\n",
    "from simpleac import SimPleAC\n",
    "from monte_carlo import print_monte_carlo_results\n",
    "\n",
    "button = widgets.Button(description=\"Run Simulation\")\n",
    "output = widgets.Output()\n",
    "style = {'description_width': 'initial', 'slider_width': 'initial'}\n",
    "wing_weight_margin = widgets.FloatSlider(description = \"Wing Weight Margin\",\n",
    "                                  value = 1.125,\n",
    "                                  style = style)\n",
    "tsfc_margin = widgets.FloatSlider(description = \"TSFC Margin\", #Thrust-Specific Fuel Consumption\n",
    "                                value = 1,\n",
    "                                style = style)\n",
    "takeoff_speed_margin = widgets.FloatSlider(description = \"Takeoff Speed Margin\",\n",
    "                                            value = 1,\n",
    "                                            style = style)\n",
    "range_margin = widgets.FloatSlider(description = \"Range Margin\",\n",
    "                                   value = 1,\n",
    "                                   style = style)"
   ]
  },
  {
   "cell_type": "code",
   "execution_count": 2,
   "metadata": {
    "deletable": false
   },
   "outputs": [],
   "source": [
    "def on_button_clicked(b):\n",
    "    m = SimPleAC()\n",
    "    m.substitutions.update({\n",
    "        \"m_ww\": wing_weight_margin.value,\n",
    "        \"m_tsfc\": tsfc_margin.value,\n",
    "        \"m_vmin\": takeoff_speed_margin.value,\n",
    "        \"m_range\": range_margin.value\n",
    "    })\n",
    "    print_monte_carlo_results(m)"
   ]
  },
  {
   "cell_type": "code",
   "execution_count": 3,
   "metadata": {},
   "outputs": [
    {
     "data": {
      "application/vnd.jupyter.widget-view+json": {
       "model_id": "85a08edd7a824cd7908130119bc1ea54",
       "version_major": 2,
       "version_minor": 0
      },
      "text/plain": [
       "FloatSlider(value=1.125, description='Wing Weight Margin', style=SliderStyle(description_width='initial'))"
      ]
     },
     "metadata": {},
     "output_type": "display_data"
    },
    {
     "data": {
      "application/vnd.jupyter.widget-view+json": {
       "model_id": "3a4515e53ac84aec808cbda78c3fefe5",
       "version_major": 2,
       "version_minor": 0
      },
      "text/plain": [
       "FloatSlider(value=1.0, description='TSFC Margin', style=SliderStyle(description_width='initial'))"
      ]
     },
     "metadata": {},
     "output_type": "display_data"
    },
    {
     "data": {
      "application/vnd.jupyter.widget-view+json": {
       "model_id": "33733cb7c9f24f38a1b27e5f51260f9d",
       "version_major": 2,
       "version_minor": 0
      },
      "text/plain": [
       "FloatSlider(value=1.0, description='Takeoff Speed Margin', style=SliderStyle(description_width='initial'))"
      ]
     },
     "metadata": {},
     "output_type": "display_data"
    },
    {
     "data": {
      "application/vnd.jupyter.widget-view+json": {
       "model_id": "e4d390906c614bac84cd921ebd0ae868",
       "version_major": 2,
       "version_minor": 0
      },
      "text/plain": [
       "FloatSlider(value=1.0, description='Range Margin', style=SliderStyle(description_width='initial'))"
      ]
     },
     "metadata": {},
     "output_type": "display_data"
    },
    {
     "data": {
      "application/vnd.jupyter.widget-view+json": {
       "model_id": "d341662876dc4247a2794a0940a5a0ff",
       "version_major": 2,
       "version_minor": 0
      },
      "text/plain": [
       "Button(description='Run Simulation', style=ButtonStyle())"
      ]
     },
     "metadata": {},
     "output_type": "display_data"
    },
    {
     "data": {
      "application/vnd.jupyter.widget-view+json": {
       "model_id": "7e34af9b6148476c8a5e4501c2b0da18",
       "version_major": 2,
       "version_minor": 0
      },
      "text/plain": [
       "Output()"
      ]
     },
     "metadata": {},
     "output_type": "display_data"
    }
   ],
   "source": [
    "button.on_click(on_button_clicked)\n",
    "display(wing_weight_margin)\n",
    "display(tsfc_margin)\n",
    "display(takeoff_speed_margin)\n",
    "display(range_margin)\n",
    "display(button, output)"
   ]
  },
  {
   "cell_type": "code",
   "execution_count": null,
   "metadata": {},
   "outputs": [],
   "source": []
  }
 ],
 "metadata": {
  "celltoolbar": "Edit Metadata",
  "kernelspec": {
   "display_name": "Python 3",
   "language": "python",
   "name": "python3"
  },
  "language_info": {
   "codemirror_mode": {
    "name": "ipython",
    "version": 3
   },
   "file_extension": ".py",
   "mimetype": "text/x-python",
   "name": "python",
   "nbconvert_exporter": "python",
   "pygments_lexer": "ipython3",
   "version": "3.7.4"
  }
 },
 "nbformat": 4,
 "nbformat_minor": 2
}
